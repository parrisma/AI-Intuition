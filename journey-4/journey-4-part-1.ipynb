{
 "cells": [
  {
   "cell_type": "markdown",
   "metadata": {},
   "source": [
    "![](../assets/images/construction.gif)"
   ]
  },
  {
   "cell_type": "markdown",
   "metadata": {},
   "source": [
    "# Journey 4\n",
    "## Part 1"
   ]
  },
  {
   "cell_type": "markdown",
   "metadata": {},
   "source": [
    "### Transfer Learning \n",
    "\n",
    "Transfer learning is where a model trained for one task is used as the starting point of another model (task). The intution is that the pre-trained model has captured something intrinsic (generalised) about the space we want the new (derived) model to operate in.\n",
    "\n",
    "There are many very complex models that take a huge amount of data, compute time and hyper paramater tuning to get operational. If we have a task that is similar in nature to task the original model was trained for we can stand on shoulders of giants and adapt the model with a small amount of re-training and our domain specific data.\n",
    "\n",
    "Some examples of complex pre-trained models would be [Google BERT](https://ai.googleblog.com/2018/11/open-sourcing-bert-state-of-art-pre.html) a sophitocaed NLP model or [Mask R-CNN](https://github.com/matterport/Mask_RCNN) or [YOLOv2](https://github.com/experiencor/keras-yolo2) or ...\n"
   ]
  },
  {
   "cell_type": "markdown",
   "metadata": {},
   "source": [
    "### Our Example\n",
    "\n",
    "We can obtain the intution for the process but to make it tractable we chose a very simple model so we can train it as part of this notebook. Clearly a model this simple would not be a valid real work case as it's cheep enough just to retain - but for the purpose of gaining itution it will work well.\n",
    "\n",
    "Let's suppose we are a Supermarket and we need to be able to accuratly classify differnet types of apple via an optical feed. We find a very powerful pre-trained model that does exactly what we want but it's missing some of the specific types of apple we are interested in. How can we make use of all the hard work and compute that went into the pre-trained model without starting over again ??"
   ]
  },
  {
   "cell_type": "markdown",
   "metadata": {},
   "source": [
    "### What's the intution ?\n",
    "\n",
    "When we look at the model we see it is a type of CNN with a few fully connected layers. Our postulation is that the CNN layers will have generalised aspects of Apple that we could leverage. However the version of the model only classifies 6 types of Apple and the one we are interested in is not in that group. \n",
    "\n",
    "We cannot use the model as it what could we do ?\n",
    "\n",
    "Well, what if we could take the pre-trained CNN bit and plug it onto a new 7 class classifier and do a minimal amount of re-training where we make the most of the pre-trained CNN weights ?.\n",
    "\n",
    "If we are carful we can\n",
    "\n",
    "1. We take the trained model\n",
    "2. Save the CNN layers\n",
    "3. Replicate the CNN architecture\n",
    "4. Create a new fully connected set of layers that give us the extra class we need\n",
    "5. Re-create a new model by joining the same type CNN layers onto the new fully connected layers\n",
    "    * we can do this as long as the input layer to the fully connected matches the output layer of the CNN\n",
    "6. Load just the CNN layers into the new model\n",
    "    * this works becuse the CNN layers in the new model were made to replicate exactly the pre-trained model\n",
    "    * so this should allow us to inherit all of the generalisation of Apple captured during the original training.\n",
    "7. We can then do a small amount (we hope) of re-training to get a seven apple classifer\n",
    "    * At least we hope it is less work than starting from scratch."
   ]
  },
  {
   "cell_type": "markdown",
   "metadata": {},
   "source": [
    "### The model.\n",
    "\n",
    "As we can see, the green bit is the CNN we want to re-use and the blue bit is the bit we want to replace.\n",
    "\n",
    "Check out the [artilce](https://www.pyimagesearch.com/2018/12/31/keras-conv2d-and-convolutional-layers/) if you want a quick reminder on the details of CNN in Keras.\n",
    "\n",
    "![Apple CNN](./images/AppleCNN-1.png)"
   ]
  },
  {
   "cell_type": "markdown",
   "metadata": {},
   "source": [
    "### The Save and Re-Use\n",
    "\n",
    "As we can see below, we save the original model weights and load them into a new model that has the same CNN layers but a new fully connected module with a 7 class output instead of a 6 class output. The new FC layer can be joined to the original CCN structure as we ensure the new FC input matches the CNN output layer\n",
    "\n",
    "![CNN Save & Load](./images/AppleCNN-2.png)\n",
    "\n",
    "### Let's get going\n",
    "\n",
    "The data set we are going to use is from [Kaggle](https://www.kaggle.com/) and there is one that classifies many types of fruit including a range of apples. This is the [fruit 360](https://www.kaggle.com/moltean/fruits) data set."
   ]
  },
  {
   "cell_type": "code",
   "execution_count": 1,
   "metadata": {},
   "outputs": [],
   "source": [
    "#\n",
    "# Some libraries we will need along the way.\n",
    "#\n",
    "from os import listdir\n",
    "from os.path import isdir, isfile, join\n",
    "import re\n",
    "import random\n",
    "import re\n",
    "import os\n",
    "import sys\n",
    "\n",
    "import numpy as np \n",
    "from PIL import Image # Great for image loading and manipulation."
   ]
  },
  {
   "cell_type": "code",
   "execution_count": 2,
   "metadata": {},
   "outputs": [],
   "source": [
    "#\n",
    "# We create a data directory in the directory above our current location into which the download all of the data. You will then\n",
    "# see there is a training and a test data set defined.\n",
    "#\n",
    "DATA_DIR = '../data/fruits-360-data/fruits-360'\n",
    "TEST_DATA = DATA_DIR + '/Test'\n",
    "TRAIN_DATA = DATA_DIR + '/Training'"
   ]
  },
  {
   "cell_type": "markdown",
   "metadata": {},
   "source": [
    "#### One Hot\n",
    "We are writting a classifer so we need a function to generate [one-hot](https://machinelearningmastery.com/why-one-hot-encode-data-in-machine-learning/) encoding of the image classifiction."
   ]
  },
  {
   "cell_type": "code",
   "execution_count": 3,
   "metadata": {},
   "outputs": [],
   "source": [
    "#\n",
    "# Create a one-hot encoding for the given list\n",
    "#\n",
    "def create_one_hot_encoding_dicts(list_to_encode):\n",
    "    list_to_one_hot = dict()\n",
    "    one_hot_to_item = dict()\n",
    "    for i, l in enumerate(list_to_encode):\n",
    "        oh = np.zeros((len(list_to_encode)))\n",
    "        oh[i] = 1\n",
    "        list_to_one_hot[l] = oh\n",
    "        one_hot_to_item[np.array2string(oh)] = l\n",
    "    return list_to_one_hot, one_hot_to_item"
   ]
  },
  {
   "cell_type": "code",
   "execution_count": 4,
   "metadata": {},
   "outputs": [],
   "source": [
    "#\n",
    "# Return a list of only the JPG files for a given dir\n",
    "#\n",
    "def list_files(data_dir):\n",
    "    jpg_files = [f for f in listdir(data_dir) if isfile(join(data_dir, f)) and re.search('\\.jpg$',f,flags=re.IGNORECASE)]\n",
    "    return jpg_files"
   ]
  },
  {
   "cell_type": "markdown",
   "metadata": {},
   "source": [
    "#### Load Data \n",
    "\n",
    "We need a function to get the images and their classification as the traditional x_train, y_train, x_test and y_test arrays. So this function takes a list of fruit (files names) to load and does just that.\n",
    "\n",
    "The **Y** matricies are one-hot encoded by mapping the file names. So if there are 4 files given we create a 4 column one-hot vector where file name one is column 2, file name 2 is column 2 and so on."
   ]
  },
  {
   "cell_type": "code",
   "execution_count": 5,
   "metadata": {},
   "outputs": [],
   "source": [
    "#\n",
    "# Load a given list of fruits from the selected data set location\n",
    "#\n",
    "def load_data(fruits_to_get, \n",
    "              test_data_dir,\n",
    "              train_data_dir\n",
    "             ):\n",
    "    \n",
    "    one_hot_dict, item_dict = create_one_hot_encoding_dicts(fruits_to_get)\n",
    "        \n",
    "    test_data = []\n",
    "    train_data = []\n",
    "    \n",
    "    for fruit in fruits_to_get:\n",
    "        \n",
    "        test_fruit_dir = test_data_dir + \"/\" + fruit\n",
    "        train_fruit_dir = train_data_dir + \"/\" + fruit\n",
    "        \n",
    "        if isdir(test_fruit_dir) and isdir(train_fruit_dir):\n",
    "            one_hot_val = one_hot_dict[fruit]\n",
    "            \n",
    "            print(\"loading [\" + fruit + \"]\" + \" one hot: \" + str(one_hot_val))\n",
    "            \n",
    "            print('Test Data')\n",
    "            for img_file in list_files(test_fruit_dir):\n",
    "                test_data.append([np.array(Image.open(join(test_fruit_dir,img_file))), one_hot_val])\n",
    "                print('.', end='')\n",
    "            print('')\n",
    "\n",
    "            print('Training Data')\n",
    "            for img_file in list_files(train_fruit_dir):\n",
    "                train_data.append([np.array(Image.open(join(train_fruit_dir,img_file))), one_hot_val])\n",
    "                print('.', end='')\n",
    "            print('')\n",
    "\n",
    "            img_shape = test_data[0][0].shape\n",
    "            one_hot_shape = test_data[0][1].shape\n",
    "            \n",
    "            # Convert data to numpy\n",
    "            x_test = np.zeros((len(test_data), *img_shape))\n",
    "            y_test = np.zeros((len(test_data), one_hot_shape[0]))\n",
    "            x_train = np.zeros((len(train_data), *img_shape))\n",
    "            y_train = np.zeros((len(train_data), one_hot_shape[0]))\n",
    "            \n",
    "            i = 0 \n",
    "            rnd_idx = random.sample(range(0, len(test_data)), len(test_data))\n",
    "            for img, one_hot in test_data:\n",
    "                x_test[rnd_idx[i]] = img / 255.0  # rescale 0.0 to 1.0\n",
    "                y_test[rnd_idx[i]] = one_hot\n",
    "                i += 1\n",
    "\n",
    "            i = 0 \n",
    "            rnd_idx = random.sample(range(0, len(train_data)), len(train_data))\n",
    "            for img, one_hot in train_data:\n",
    "                x_train[rnd_idx[i]] = img / 255.0  # rescale 0.0 to 1.0\n",
    "                y_train[rnd_idx[i]] = one_hot\n",
    "                i += 1\n",
    "\n",
    "        else:\n",
    "            raise Exception(\"Cannot load unknown fruit - missing from test and/or train data set[\" + fruit + \"]\")\n",
    "            \n",
    "    return x_train, \\\n",
    "           y_train, \\\n",
    "           x_test, \\\n",
    "           y_test, \\\n",
    "           one_hot_dict, \\\n",
    "           item_dict\n",
    "        "
   ]
  },
  {
   "cell_type": "markdown",
   "metadata": {},
   "source": [
    "#### Get the Six Classes\n",
    "\n",
    "In our test case we don't have a fancy model that we can re use. So need to create it and then re-use it.\n",
    "\n",
    "So here we load six apple data sets that we will train a classification model with. We will then pretend this is the model we want to re-use via transfer learning.\n",
    "\n",
    "Let's kick off by loading six types of apple."
   ]
  },
  {
   "cell_type": "code",
   "execution_count": 6,
   "metadata": {},
   "outputs": [
    {
     "name": "stdout",
     "output_type": "stream",
     "text": [
      "loading [Apple Golden 1] one hot: [1. 0. 0. 0. 0. 0.]\n",
      "Test Data\n",
      "....................................................................................................................................................................\n",
      "Training Data\n",
      "............................................................................................................................................................................................................................................................................................................................................................................................................................................................................................................\n",
      "loading [Apple Golden 2] one hot: [0. 1. 0. 0. 0. 0.]\n",
      "Test Data\n",
      "....................................................................................................................................................................\n",
      "Training Data\n",
      "............................................................................................................................................................................................................................................................................................................................................................................................................................................................................................................\n",
      "loading [Apple Golden 3] one hot: [0. 0. 1. 0. 0. 0.]\n",
      "Test Data\n",
      ".................................................................................................................................................................\n",
      "Training Data\n",
      ".................................................................................................................................................................................................................................................................................................................................................................................................................................................................................................\n",
      "loading [Apple Red 1] one hot: [0. 0. 0. 1. 0. 0.]\n",
      "Test Data\n",
      "....................................................................................................................................................................\n",
      "Training Data\n",
      "............................................................................................................................................................................................................................................................................................................................................................................................................................................................................................................\n",
      "loading [Apple Red 2] one hot: [0. 0. 0. 0. 1. 0.]\n",
      "Test Data\n",
      "....................................................................................................................................................................\n",
      "Training Data\n",
      "............................................................................................................................................................................................................................................................................................................................................................................................................................................................................................................\n",
      "loading [Apple Red 3] one hot: [0. 0. 0. 0. 0. 1.]\n",
      "Test Data\n",
      "................................................................................................................................................\n",
      "Training Data\n",
      ".............................................................................................................................................................................................................................................................................................................................................................................................................................................\n"
     ]
    }
   ],
   "source": [
    "list_to_get = [\"Apple Golden 1\",\n",
    "               \"Apple Golden 2\",\n",
    "               \"Apple Golden 3\",\n",
    "               \"Apple Red 1\",\n",
    "               \"Apple Red 2\",\n",
    "               \"Apple Red 3\"]              \n",
    "x_train, y_train, x_test, y_test, _, item_dict = load_data(list_to_get, TEST_DATA, TRAIN_DATA)"
   ]
  },
  {
   "cell_type": "markdown",
   "metadata": {},
   "source": [
    "#### What did we get ?\n",
    "\n",
    "We used Pillow library to load the images and convert them into three layer matricies. So when we print the shapes below you will see that we have 961 test images of (100 x 100 x 3). Where 100 x 100 is the number of pixels and 3 are the three separate RGB layers.\n",
    "\n",
    "There is also x_train which is the same 100 x 100 x 3 except we have 2878 images. \n",
    "\n",
    "Plus the corresponding one-hot encoded Y matrices each with six columns representing the six classes of Apple we have encoded.\n"
   ]
  },
  {
   "cell_type": "code",
   "execution_count": 7,
   "metadata": {},
   "outputs": [
    {
     "name": "stdout",
     "output_type": "stream",
     "text": [
      "(961, 100, 100, 3)\n",
      "(961, 6)\n",
      "(2878, 100, 100, 3)\n",
      "(2878, 6)\n"
     ]
    }
   ],
   "source": [
    "print(x_test.shape)\n",
    "print(y_test.shape)\n",
    "print(x_train.shape)\n",
    "print(y_train.shape)\n",
    "        "
   ]
  },
  {
   "cell_type": "markdown",
   "metadata": {},
   "source": [
    "#### What do they look like ?\n",
    "\n",
    "Let's show nine randomly selected images using matcplot lib to visualise them."
   ]
  },
  {
   "cell_type": "code",
   "execution_count": 8,
   "metadata": {},
   "outputs": [
    {
     "data": {
      "image/png": "[encoded data removed]",
      "text/plain": [
       "<Figure size 432x288 with 9 Axes>"
      ]
     },
     "metadata": {
      "needs_background": "light"
     },
     "output_type": "display_data"
    }
   ],
   "source": [
    "import matplotlib.pyplot as plt\n",
    "%matplotlib inline  \n",
    "\n",
    "for i in range(9):\n",
    "    plt.subplot(3,3,i+1)\n",
    "    plt.imshow(x_train[i], interpolation='none')"
   ]
  },
  {
   "cell_type": "markdown",
   "metadata": {},
   "source": [
    "### Onto the model\n",
    "\n",
    "We need to create the model that will play the real world role of a model we want to re-use.\n",
    "\n",
    "For this we will use the [Keras](https://keras.io/) library backed by [Tensorflow](https://www.tensorflow.org/)."
   ]
  },
  {
   "cell_type": "code",
   "execution_count": 9,
   "metadata": {},
   "outputs": [
    {
     "name": "stderr",
     "output_type": "stream",
     "text": [
      "Using TensorFlow backend.\n"
     ]
    }
   ],
   "source": [
    "from keras import backend as K\n",
    "from keras.callbacks import TensorBoard\n",
    "from keras.datasets import mnist\n",
    "from keras.layers import Input, Dense, Conv2D, Flatten, MaxPooling2D, BatchNormalization, Dropout\n",
    "from keras.losses import categorical_crossentropy\n",
    "from keras.models import Model, Sequential\n",
    "from keras.optimizers import SGD\n",
    "from keras.utils import to_categorical\n",
    "from keras.utils import multi_gpu_model\n",
    "import tensorflow as tf"
   ]
  },
  {
   "cell_type": "markdown",
   "metadata": {},
   "source": [
    "#### How fast can we go ?\n",
    "\n",
    "If you have GPU's and the Jupyter Kernel has the correct version of Keras and Tensorflow you will be able to enable GPU for this exerice to speed up your training. The command below will show you how many GPU's you have if any.\n",
    "\n",
    "Getting GPU's running can be tricky and you will also need an GPU comatible with CUDA. There are many great [articles](https://www.linkedin.com/pulse/set-up-gpu-accelerated-tensorflow-keras-windows-10-anaconda-bhatia) on line for how to do this. If in doubt set GPU count = 0 and everything will still work - just a bit slower."
   ]
  },
  {
   "cell_type": "code",
   "execution_count": 10,
   "metadata": {},
   "outputs": [
    {
     "name": "stdout",
     "output_type": "stream",
     "text": [
      "[name: \"/device:CPU:0\"\n",
      "device_type: \"CPU\"\n",
      "memory_limit: 268435456\n",
      "locality {\n",
      "}\n",
      "incarnation: 5468294854594670513\n",
      ", name: \"/device:GPU:0\"\n",
      "device_type: \"GPU\"\n",
      "memory_limit: 4944779673\n",
      "locality {\n",
      "  bus_id: 1\n",
      "  links {\n",
      "    link {\n",
      "      device_id: 1\n",
      "      type: \"StreamExecutor\"\n",
      "      strength: 1\n",
      "    }\n",
      "  }\n",
      "}\n",
      "incarnation: 817276433981127135\n",
      "physical_device_desc: \"device: 0, name: GeForce GTX TITAN Z, pci bus id: 0000:04:00.0, compute capability: 3.5\"\n",
      ", name: \"/device:GPU:1\"\n",
      "device_type: \"GPU\"\n",
      "memory_limit: 4944779673\n",
      "locality {\n",
      "  bus_id: 1\n",
      "  links {\n",
      "    link {\n",
      "      type: \"StreamExecutor\"\n",
      "      strength: 1\n",
      "    }\n",
      "  }\n",
      "}\n",
      "incarnation: 6463574404359339373\n",
      "physical_device_desc: \"device: 1, name: GeForce GTX TITAN Z, pci bus id: 0000:05:00.0, compute capability: 3.5\"\n",
      "]\n"
     ]
    }
   ],
   "source": [
    "from tensorflow.python.client import device_lib\n",
    "print(device_lib.list_local_devices())"
   ]
  },
  {
   "cell_type": "code",
   "execution_count": 11,
   "metadata": {},
   "outputs": [],
   "source": [
    "#\n",
    "# Set this to Zero if you are not sure you have GPU's enabled.\n",
    "#\n",
    "GPU_COUNT = 2"
   ]
  },
  {
   "cell_type": "markdown",
   "metadata": {},
   "source": [
    "#### The CNN Layers\n",
    "\n",
    "This function builds the CNN layers that we use to compose our final model."
   ]
  },
  {
   "cell_type": "code",
   "execution_count": 12,
   "metadata": {},
   "outputs": [],
   "source": [
    "def build_cnn_layers(model_name,\n",
    "                     input_shape):\n",
    "    cnn_in = Input(shape=input_shape, name = \"cnn0Input\")\n",
    "    cnn_l1 = Conv2D(16, kernel_size=(5, 5), strides=(1, 1), activation='relu', name = \"cnn1_Conv2d\")(cnn_in) \n",
    "    cnn_l2 = MaxPooling2D(pool_size=(2, 2), name = \"cnn2_MaxPool2D\")(cnn_l1)\n",
    "    cnn_l3 = BatchNormalization(name = \"cnn3_BatchNorm\")(cnn_l2) \n",
    "    cnn_l4 = Conv2D(32, kernel_size=(3, 3), strides=(2, 2), activation='relu', name = \"cnn3_conv2d\")(cnn_l3)\n",
    "    cnn_l5 = MaxPooling2D(pool_size=(2, 2), name = \"cnn5_MaxPool2D\")(cnn_l4)\n",
    "    cnn_l6 = BatchNormalization(name = \"cnn6_BatchNorm\")(cnn_l5) \n",
    "    cnn_l7 = Dropout(rate=0.25,name = \"cnn7_Dropout\")(cnn_l6) \n",
    "    cnn_out = Flatten(name = \"cnnOutput_Flatten\")(cnn_l7)\n",
    "    return cnn_in, cnn_out"
   ]
  },
  {
   "cell_type": "code",
   "execution_count": 13,
   "metadata": {},
   "outputs": [],
   "source": [
    "def build_cnn_layers(model_name,\n",
    "                     input_shape):\n",
    "    cnn_in = Input(shape=input_shape, name = \"cnn0Input\")\n",
    "    cnn_l1 = Conv2D(16, kernel_size=(5, 5), strides=(2, 2), activation='relu', name = \"cnn1_Conv2d\")(cnn_in) \n",
    "    cnn_l2 = MaxPooling2D(pool_size=(2, 2), name = \"cnn2_MaxPool2D\")(cnn_l1)\n",
    "    cnn_l3 = BatchNormalization(name = \"cnn3_BatchNorm\")(cnn_l2) \n",
    "    cnn_l7 = Dropout(rate=0.25,name = \"cnn7_Dropout\")(cnn_l3) \n",
    "    cnn_out = Flatten(name = \"cnnOutput_Flatten\")(cnn_l7)\n",
    "    return cnn_in, cnn_out"
   ]
  },
  {
   "cell_type": "markdown",
   "metadata": {},
   "source": [
    "#### Fully Connected Layers\n",
    "\n",
    "This function creates our fully connected classification layers and is given the CNN output layer to bind to and the number of classes for its output."
   ]
  },
  {
   "cell_type": "code",
   "execution_count": 14,
   "metadata": {},
   "outputs": [],
   "source": [
    "def build_classifier_layers(model_name,\n",
    "                            num_classes,\n",
    "                            input_layer):\n",
    "    cl_l1 = Dense(25, activation='relu', name = \"clInput_Dense\")(input_layer) # 500 -> 50\n",
    "    cl_l2 = Dropout(rate=0.25, name = \"cl1_Dropout\")(cl_l1)\n",
    "    cl_out = Dense(num_classes, activation='softmax', name = \"clOutput\")(cl_l2)\n",
    "    return cl_out"
   ]
  },
  {
   "cell_type": "markdown",
   "metadata": {},
   "source": [
    "#### The final model\n",
    "\n",
    "We compose the final model from both the CNN & FC layers"
   ]
  },
  {
   "cell_type": "code",
   "execution_count": 15,
   "metadata": {},
   "outputs": [],
   "source": [
    "def create_model(model_name,\n",
    "                input_shape,\n",
    "                num_classes):\n",
    "    model_cnn_in, model_cnn_out = build_cnn_layers(model_name, input_shape)\n",
    "    model_cl_out = build_classifier_layers(model_name, num_classes, model_cnn_out)\n",
    "\n",
    "    model = Model(inputs=[model_cnn_in],outputs=[model_cl_out])\n",
    "    model.name = model_name\n",
    "    return model"
   ]
  },
  {
   "cell_type": "markdown",
   "metadata": {},
   "source": [
    "We define the input shape of 100 x 100 x 3 to match the images we have already loaded and define the number of classes to be six to match the number of different apples we loaed.\n",
    "\n",
    "Once we have created the model - we show a text summary of it so you can see all the layers. These are the layers we will be working with later. **Note** that we have named all of the layers and all of the <code>cnn</code> layers start with 'cnn'. We need this so that we can later both save and re load all of the cnn specific layers."
   ]
  },
  {
   "cell_type": "code",
   "execution_count": 16,
   "metadata": {},
   "outputs": [
    {
     "name": "stdout",
     "output_type": "stream",
     "text": [
      "WARNING:tensorflow:From D:\\Conda\\envs\\notebook_gpu\\lib\\site-packages\\tensorflow\\python\\framework\\op_def_library.py:263: colocate_with (from tensorflow.python.framework.ops) is deprecated and will be removed in a future version.\n",
      "Instructions for updating:\n",
      "Colocations handled automatically by placer.\n",
      "WARNING:tensorflow:From D:\\Conda\\envs\\notebook_gpu\\lib\\site-packages\\keras\\backend\\tensorflow_backend.py:3445: calling dropout (from tensorflow.python.ops.nn_ops) with keep_prob is deprecated and will be removed in a future version.\n",
      "Instructions for updating:\n",
      "Please use `rate` instead of `keep_prob`. Rate should be set to `rate = 1 - keep_prob`.\n",
      "_________________________________________________________________\n",
      "Layer (type)                 Output Shape              Param #   \n",
      "=================================================================\n",
      "cnn0Input (InputLayer)       (None, 100, 100, 3)       0         \n",
      "_________________________________________________________________\n",
      "cnn1_Conv2d (Conv2D)         (None, 48, 48, 16)        1216      \n",
      "_________________________________________________________________\n",
      "cnn2_MaxPool2D (MaxPooling2D (None, 24, 24, 16)        0         \n",
      "_________________________________________________________________\n",
      "cnn3_BatchNorm (BatchNormali (None, 24, 24, 16)        64        \n",
      "_________________________________________________________________\n",
      "cnn7_Dropout (Dropout)       (None, 24, 24, 16)        0         \n",
      "_________________________________________________________________\n",
      "cnnOutput_Flatten (Flatten)  (None, 9216)              0         \n",
      "_________________________________________________________________\n",
      "clInput_Dense (Dense)        (None, 25)                230425    \n",
      "_________________________________________________________________\n",
      "cl1_Dropout (Dropout)        (None, 25)                0         \n",
      "_________________________________________________________________\n",
      "clOutput (Dense)             (None, 6)                 156       \n",
      "=================================================================\n",
      "Total params: 231,861\n",
      "Trainable params: 231,829\n",
      "Non-trainable params: 32\n",
      "_________________________________________________________________\n",
      "None\n"
     ]
    }
   ],
   "source": [
    "input_shape = (100, 100, 3)\n",
    "num_classes = 6\n",
    "model_name = \"classifier_\" + str(num_classes)\n",
    "\n",
    "model = create_model(model_name, input_shape, num_classes)\n",
    "\n",
    "print(model.summary())"
   ]
  },
  {
   "cell_type": "markdown",
   "metadata": {},
   "source": [
    "We need to compile the model before we train it and this is where we let Keras and Tensorflow know if they need to take GPUs into account."
   ]
  },
  {
   "cell_type": "code",
   "execution_count": 17,
   "metadata": {},
   "outputs": [],
   "source": [
    "def model_compile(model,\n",
    "                 num_gpu):\n",
    "    if num_gpu > 0:\n",
    "        model = multi_gpu_model(model, gpus=num_gpu)\n",
    "    model.compile(loss=categorical_crossentropy,\n",
    "                  optimizer=SGD(lr=0.01),\n",
    "                  metrics=['accuracy'])\n",
    "    return model"
   ]
  },
  {
   "cell_type": "code",
   "execution_count": 18,
   "metadata": {},
   "outputs": [],
   "source": [
    "model = model_compile(model, GPU_COUNT)"
   ]
  },
  {
   "cell_type": "markdown",
   "metadata": {},
   "source": [
    "### Train the model.\n",
    "\n",
    "Here we train the model and in a real world example this is where much parameter tuning and compute would be consumed. Which is why there are cases we would like to re-use the model. In our example case it's quite quick to train so there is not much to be gained. However we will still be able to understand the exact process with this example.\n",
    "\n",
    "This may take a while if you just have CPU so be patient - worst case you can reduce the <code>num_epocs</code> to 20 and it should still be fine."
   ]
  },
  {
   "cell_type": "code",
   "execution_count": 19,
   "metadata": {},
   "outputs": [
    {
     "name": "stdout",
     "output_type": "stream",
     "text": [
      "WARNING:tensorflow:From D:\\Conda\\envs\\notebook_gpu\\lib\\site-packages\\tensorflow\\python\\ops\\math_ops.py:3066: to_int32 (from tensorflow.python.ops.math_ops) is deprecated and will be removed in a future version.\n",
      "Instructions for updating:\n",
      "Use tf.cast instead.\n",
      "Train on 2878 samples, validate on 961 samples\n",
      "Epoch 1/50\n",
      "2878/2878 [==============================] - 5s 2ms/step - loss: 0.8698 - acc: 0.6567 - val_loss: 1.0847 - val_acc: 0.6108\n",
      "Epoch 2/50\n",
      "2878/2878 [==============================] - 2s 595us/step - loss: 0.1993 - acc: 0.9277 - val_loss: 0.0817 - val_acc: 0.9750\n",
      "Epoch 3/50\n",
      "2878/2878 [==============================] - 2s 601us/step - loss: 0.0974 - acc: 0.9649 - val_loss: 0.1576 - val_acc: 0.9344\n",
      "Epoch 4/50\n",
      "2878/2878 [==============================] - 2s 580us/step - loss: 0.0597 - acc: 0.9781 - val_loss: 0.0453 - val_acc: 0.9886\n",
      "Epoch 5/50\n",
      "2878/2878 [==============================] - 2s 583us/step - loss: 0.0483 - acc: 0.9871 - val_loss: 0.1635 - val_acc: 0.9168\n",
      "Epoch 6/50\n",
      "2878/2878 [==============================] - 2s 599us/step - loss: 0.0442 - acc: 0.9854 - val_loss: 0.4187 - val_acc: 0.8647\n",
      "Epoch 7/50\n",
      "2878/2878 [==============================] - 2s 588us/step - loss: 0.0407 - acc: 0.9875 - val_loss: 0.0532 - val_acc: 0.9802\n",
      "Epoch 8/50\n",
      "2878/2878 [==============================] - 2s 612us/step - loss: 0.0311 - acc: 0.9906 - val_loss: 0.1056 - val_acc: 0.9573\n",
      "Epoch 9/50\n",
      "2878/2878 [==============================] - 2s 636us/step - loss: 0.0316 - acc: 0.9903 - val_loss: 0.0604 - val_acc: 0.9844\n",
      "Epoch 10/50\n",
      "2878/2878 [==============================] - 2s 622us/step - loss: 0.0209 - acc: 0.9931 - val_loss: 0.0393 - val_acc: 0.9896\n",
      "Epoch 11/50\n",
      "2878/2878 [==============================] - 2s 620us/step - loss: 0.0212 - acc: 0.9937 - val_loss: 0.0136 - val_acc: 0.9958\n",
      "Epoch 12/50\n",
      "2878/2878 [==============================] - 2s 617us/step - loss: 0.0196 - acc: 0.9944 - val_loss: 0.0802 - val_acc: 0.9761\n",
      "Epoch 13/50\n",
      "2878/2878 [==============================] - 2s 618us/step - loss: 0.0212 - acc: 0.9934 - val_loss: 0.0174 - val_acc: 0.9990\n",
      "Epoch 14/50\n",
      "2878/2878 [==============================] - 2s 588us/step - loss: 0.0217 - acc: 0.9927 - val_loss: 0.0280 - val_acc: 0.9906\n",
      "Epoch 15/50\n",
      "2878/2878 [==============================] - 2s 594us/step - loss: 0.0171 - acc: 0.9951 - val_loss: 0.0340 - val_acc: 0.9896\n",
      "Epoch 16/50\n",
      "2878/2878 [==============================] - 2s 578us/step - loss: 0.0224 - acc: 0.9924 - val_loss: 0.0324 - val_acc: 0.9875\n",
      "Epoch 17/50\n",
      "2878/2878 [==============================] - 2s 619us/step - loss: 0.0145 - acc: 0.9969 - val_loss: 0.1071 - val_acc: 0.9428\n",
      "Epoch 18/50\n",
      "2878/2878 [==============================] - 2s 601us/step - loss: 0.0236 - acc: 0.9920 - val_loss: 0.0268 - val_acc: 0.9886\n",
      "Epoch 19/50\n",
      "2878/2878 [==============================] - 2s 561us/step - loss: 0.0207 - acc: 0.9931 - val_loss: 0.0543 - val_acc: 0.9802\n",
      "Epoch 20/50\n",
      "2878/2878 [==============================] - 2s 596us/step - loss: 0.0116 - acc: 0.9976 - val_loss: 0.0609 - val_acc: 0.9781\n",
      "Epoch 21/50\n",
      "2878/2878 [==============================] - 2s 584us/step - loss: 0.0151 - acc: 0.9955 - val_loss: 0.0161 - val_acc: 0.9979\n",
      "Epoch 22/50\n",
      "2878/2878 [==============================] - 2s 581us/step - loss: 0.0146 - acc: 0.9965 - val_loss: 0.0336 - val_acc: 0.9917\n",
      "Epoch 23/50\n",
      "2878/2878 [==============================] - 2s 644us/step - loss: 0.0155 - acc: 0.9955 - val_loss: 0.0264 - val_acc: 0.9906\n",
      "Epoch 24/50\n",
      "2878/2878 [==============================] - 2s 596us/step - loss: 0.0142 - acc: 0.9948 - val_loss: 0.1464 - val_acc: 0.9303\n",
      "Epoch 25/50\n",
      "2878/2878 [==============================] - 2s 581us/step - loss: 0.0178 - acc: 0.9934 - val_loss: 0.0623 - val_acc: 0.9761\n",
      "Epoch 26/50\n",
      "2878/2878 [==============================] - 2s 567us/step - loss: 0.0149 - acc: 0.9955 - val_loss: 0.0242 - val_acc: 0.9865\n",
      "Epoch 27/50\n",
      "2878/2878 [==============================] - 2s 583us/step - loss: 0.0172 - acc: 0.9948 - val_loss: 2.0210 - val_acc: 0.7430\n",
      "Epoch 28/50\n",
      "2878/2878 [==============================] - 2s 549us/step - loss: 0.0186 - acc: 0.9944 - val_loss: 0.0344 - val_acc: 0.9886\n",
      "Epoch 29/50\n",
      "2878/2878 [==============================] - 2s 567us/step - loss: 0.0146 - acc: 0.9965 - val_loss: 0.0414 - val_acc: 0.9958\n",
      "Epoch 30/50\n",
      "2878/2878 [==============================] - 2s 575us/step - loss: 0.0145 - acc: 0.9955 - val_loss: 0.0435 - val_acc: 0.9834\n",
      "Epoch 31/50\n",
      "2878/2878 [==============================] - 2s 558us/step - loss: 0.0140 - acc: 0.9969 - val_loss: 0.0090 - val_acc: 0.9979\n",
      "Epoch 32/50\n",
      "2878/2878 [==============================] - 2s 573us/step - loss: 0.0091 - acc: 0.9979 - val_loss: 0.0204 - val_acc: 0.9906\n",
      "Epoch 33/50\n",
      "2878/2878 [==============================] - 2s 565us/step - loss: 0.0115 - acc: 0.9962 - val_loss: 0.0153 - val_acc: 0.9958\n",
      "Epoch 34/50\n",
      "2878/2878 [==============================] - 2s 570us/step - loss: 0.0124 - acc: 0.9965 - val_loss: 0.0463 - val_acc: 0.9813\n",
      "Epoch 35/50\n",
      "2878/2878 [==============================] - 2s 586us/step - loss: 0.0115 - acc: 0.9958 - val_loss: 0.1655 - val_acc: 0.9376\n",
      "Epoch 36/50\n",
      "2878/2878 [==============================] - 2s 581us/step - loss: 0.0120 - acc: 0.9962 - val_loss: 0.0305 - val_acc: 0.9854\n",
      "Epoch 37/50\n",
      "2878/2878 [==============================] - 2s 572us/step - loss: 0.0113 - acc: 0.9969 - val_loss: 0.0115 - val_acc: 0.9969\n",
      "Epoch 38/50\n",
      "2878/2878 [==============================] - 2s 592us/step - loss: 0.0113 - acc: 0.9962 - val_loss: 0.0142 - val_acc: 0.9990\n",
      "Epoch 39/50\n",
      "2878/2878 [==============================] - 2s 599us/step - loss: 0.0082 - acc: 0.9979 - val_loss: 0.0111 - val_acc: 0.9990\n",
      "Epoch 40/50\n",
      "2878/2878 [==============================] - 2s 567us/step - loss: 0.0099 - acc: 0.9976 - val_loss: 0.0091 - val_acc: 0.9990\n",
      "Epoch 41/50\n",
      "2878/2878 [==============================] - 2s 583us/step - loss: 0.0090 - acc: 0.9979 - val_loss: 0.0026 - val_acc: 1.0000\n",
      "Epoch 42/50\n",
      "2878/2878 [==============================] - 2s 577us/step - loss: 0.0082 - acc: 0.9986 - val_loss: 0.0071 - val_acc: 0.9990\n",
      "Epoch 43/50\n",
      "2878/2878 [==============================] - 2s 588us/step - loss: 0.0088 - acc: 0.9976 - val_loss: 0.0067 - val_acc: 0.9969\n",
      "Epoch 44/50\n",
      "2878/2878 [==============================] - 2s 568us/step - loss: 0.0100 - acc: 0.9965 - val_loss: 0.0098 - val_acc: 0.9948\n",
      "Epoch 45/50\n",
      "2878/2878 [==============================] - 2s 567us/step - loss: 0.0079 - acc: 0.9979 - val_loss: 0.0063 - val_acc: 0.9958\n",
      "Epoch 46/50\n",
      "2878/2878 [==============================] - 2s 567us/step - loss: 0.0071 - acc: 0.9986 - val_loss: 0.0119 - val_acc: 0.9948\n",
      "Epoch 47/50\n",
      "2878/2878 [==============================] - 2s 569us/step - loss: 0.0097 - acc: 0.9969 - val_loss: 0.0105 - val_acc: 0.9958\n",
      "Epoch 48/50\n",
      "2878/2878 [==============================] - 2s 586us/step - loss: 0.0077 - acc: 0.9979 - val_loss: 0.0163 - val_acc: 0.9917\n",
      "Epoch 49/50\n",
      "2878/2878 [==============================] - 2s 597us/step - loss: 0.0055 - acc: 0.9986 - val_loss: 0.0127 - val_acc: 0.9948\n",
      "Epoch 50/50\n",
      "2878/2878 [==============================] - 2s 610us/step - loss: 0.0062 - acc: 0.9979 - val_loss: 0.0053 - val_acc: 0.9990\n"
     ]
    }
   ],
   "source": [
    "batch_size = 32\n",
    "num_epochs = 50\n",
    "history = model.fit(x_train, y_train,\n",
    "                    epochs=num_epochs,\n",
    "                    batch_size=batch_size,\n",
    "                    shuffle=True,\n",
    "                    validation_data=(x_test, y_test)\n",
    "                    )"
   ]
  },
  {
   "cell_type": "markdown",
   "metadata": {},
   "source": [
    "#### Check Training\n",
    "\n",
    "Let's graph the accuracy and the loss and see how it went"
   ]
  },
  {
   "cell_type": "code",
   "execution_count": 22,
   "metadata": {},
   "outputs": [],
   "source": [
    "def plot_results(history,\n",
    "                 num_epochs):\n",
    "    color_r = 'tab:red'\n",
    "    color_b = 'tab:blue'\n",
    "    \n",
    "    epocs = np.arange(0, num_epochs)\n",
    "\n",
    "    fig, _ = plt.subplots(figsize=(15,6))\n",
    "    \n",
    "    # Loss\n",
    "    ax1 = plt.subplot(1,2,1)\n",
    "    plt.title('Loss')\n",
    "    ax1.set_xlabel('Epoc')\n",
    "    ax1.set_ylabel('Traing Loss', color=color_r)\n",
    "    ax1.plot(epocs, history.history['loss'], color=color_r)\n",
    "    ax1.tick_params(axis='y', labelcolor=color_r)\n",
    "    ax2 = ax1.twinx()  # 2nd Axis for Validation Loss\n",
    "    ax2.set_ylabel('Validation Loss', color=color_b)  \n",
    "    ax2.plot(epocs, history.history['val_loss'], color=color_b)\n",
    "    ax2.tick_params(axis='y', labelcolor=color_b)\n",
    "\n",
    "    # Accuracy\n",
    "    ax1 = plt.subplot(1,2,2)\n",
    "    plt.title('Accuracy')\n",
    "    ax1.set_xlabel('Epoc')\n",
    "    ax1.set_ylabel('Traing accuracy', color=color_r)\n",
    "    ax1.plot(epocs, history.history['acc'], color=color_r)\n",
    "    ax1.tick_params(axis='y', labelcolor=color_r)\n",
    "    ax2 = ax1.twinx()  # 2nd Axis for Validation Loss\n",
    "    ax2.set_ylabel('Validation Accuracy', color=color_b)  \n",
    "    ax2.plot(epocs, history.history['val_acc'], color=color_b)\n",
    "    ax2.tick_params(axis='y', labelcolor=color_b)\n",
    "\n",
    "    fig.tight_layout()  # otherwise the right y-label is slightly clipped\n",
    "    plt.show()\n",
    "    return"
   ]
  },
  {
   "cell_type": "code",
   "execution_count": 23,
   "metadata": {},
   "outputs": [
    {
     "data": {
      "image/png": "[encoded data removed]",
      "text/plain": [
       "<Figure size 1080x432 with 4 Axes>"
      ]
     },
     "metadata": {
      "needs_background": "light"
     },
     "output_type": "display_data"
    }
   ],
   "source": [
    "plot_results(history, num_epochs)"
   ]
  },
  {
   "cell_type": "markdown",
   "metadata": {},
   "source": [
    "You should see the red lines showing steady progress as the training progresses - the blue (validation) line will be a little jagged but should be less jagged as training progresses.\n",
    "\n",
    "Next we will run some predictions of our own on the test data and see what our preduction capability is."
   ]
  },
  {
   "cell_type": "code",
   "execution_count": 24,
   "metadata": {},
   "outputs": [],
   "source": [
    "def test_model_prediction(model,\n",
    "                          x_test_set, \n",
    "                          y_test_set,\n",
    "                          num_to_test,\n",
    "                          summary = True):\n",
    "    num_passed = 0\n",
    "    list_to_test = np.random.randint(len(x_test_set), size=num_to_test)\n",
    "\n",
    "    for i in list_to_test:\n",
    "        xt = x_test_set[i]\n",
    "        xt = np.reshape(xt,(1,100,100,3))\n",
    "        pred = model.predict(xt)\n",
    "        if(np.argmax(pred) == np.argmax(y_test_set[i])):\n",
    "            if not summary:\n",
    "                print(\"Correct Prediction for x_test element: \" + str(i)) \n",
    "            num_passed += 1\n",
    "        else:\n",
    "            if not summary:\n",
    "                print(\"Failed Prediction for x_test element: \" + str(i))\n",
    "    print(\"\\nOverall Score : \"+ str(round(num_passed/num_to_test,1)*100)+\"%\")\n",
    "    return"
   ]
  },
  {
   "cell_type": "code",
   "execution_count": 25,
   "metadata": {},
   "outputs": [
    {
     "name": "stdout",
     "output_type": "stream",
     "text": [
      "\n",
      "Overall Score : 100.0%\n"
     ]
    }
   ],
   "source": [
    "test_model_prediction(model, x_test, y_test, 900, summary=True)"
   ]
  },
  {
   "cell_type": "markdown",
   "metadata": {},
   "source": [
    "How did it do ? should be at or above about 90% ?\n",
    "\n",
    "### Save it !\n",
    "\n",
    "We need to save the weights model layers as these are now trained and valuable. For this we write a simple function to iterate all of the layers and save each layer as separate file. The file name is the name of the layer and e use standard numpy capability to save the weights as they are just numpy matricies."
   ]
  },
  {
   "cell_type": "code",
   "execution_count": 26,
   "metadata": {},
   "outputs": [],
   "source": [
    "#\n",
    "# Returns the model layers. If we complied with GPU we need to look in a different place to find the actual model \n",
    "# and its weigths.\n",
    "#\n",
    "def model_layers(model):\n",
    "    try:\n",
    "        layers = model.get_layer(model_name).layers\n",
    "    except:\n",
    "        layers = model.layers\n",
    "        \n",
    "    return layers"
   ]
  },
  {
   "cell_type": "code",
   "execution_count": 27,
   "metadata": {},
   "outputs": [],
   "source": [
    "# \n",
    "# This function saves the layers that match a certian pattern, remember we named each layer so we could save and load layers\n",
    "# by name.\n",
    "#\n",
    "cnn_only = \".*cnn.*\"\n",
    "def aij_save_cnn_layers(model,\n",
    "                        pattern=\".*\"):\n",
    "\n",
    "    for l in model_layers(model):\n",
    "        l_name = l.name\n",
    "        if re.search(pattern, l_name):\n",
    "            w = l.get_weights()\n",
    "            print('Saving Layer :'+ l.name + \":: params #\"+str(l.count_params()))\n",
    "            np.save(l_name + '.npy', w, allow_pickle=True)\n",
    "    return"
   ]
  },
  {
   "cell_type": "markdown",
   "metadata": {},
   "source": [
    "Ok, so we are going to save **all** the layers both the CNN abd the FC - this is what you may see if a saved model was made public. We only need the CNN layers so when we load them later we can just pick the right ones."
   ]
  },
  {
   "cell_type": "code",
   "execution_count": 28,
   "metadata": {},
   "outputs": [
    {
     "name": "stdout",
     "output_type": "stream",
     "text": [
      "Saving Layer :cnn0Input:: params #0\n",
      "Saving Layer :cnn1_Conv2d:: params #1216\n",
      "Saving Layer :cnn2_MaxPool2D:: params #0\n",
      "Saving Layer :cnn3_BatchNorm:: params #64\n",
      "Saving Layer :cnn7_Dropout:: params #0\n",
      "Saving Layer :cnnOutput_Flatten:: params #0\n",
      "Saving Layer :clInput_Dense:: params #230425\n",
      "Saving Layer :cl1_Dropout:: params #0\n",
      "Saving Layer :clOutput:: params #156\n"
     ]
    }
   ],
   "source": [
    "aij_save_cnn_layers(model, pattern= \".*\")"
   ]
  },
  {
   "cell_type": "markdown",
   "metadata": {},
   "source": [
    "Let's run a quick shell command and see if we can see all the saved files. You will need to change the shell command to\n",
    "<br><code>!ls *.npy</code><br>\n",
    "if you launched your jupyter notebook server from a linux shell."
   ]
  },
  {
   "cell_type": "code",
   "execution_count": 29,
   "metadata": {},
   "outputs": [
    {
     "name": "stdout",
     "output_type": "stream",
     "text": [
      " Volume in drive D is DATA\n",
      " Volume Serial Number is BA17-7272\n",
      "\n",
      " Directory of D:\\Dev\\devroot\\AI-Intuition\\journey-4\n",
      "\n",
      "07/28/2019  06:00 PM               128 cl1_Dropout.npy\n",
      "07/28/2019  06:00 PM         1,402,900 clInput_Dense.npy\n",
      "07/28/2019  06:00 PM             1,437 clOutput.npy\n",
      "07/28/2019  06:00 PM               128 cnn0Input.npy\n",
      "07/28/2019  06:00 PM             7,918 cnn1_Conv2d.npy\n",
      "07/28/2019  06:00 PM               128 cnn2_MaxPool2D.npy\n",
      "07/28/2019  06:00 PM               384 cnn3_BatchNorm.npy\n",
      "07/19/2019  09:12 PM            28,791 cnn3_conv2d.npy\n",
      "07/19/2019  09:12 PM               128 cnn5_MaxPool2D.npy\n",
      "07/19/2019  09:12 PM               640 cnn6_BatchNorm.npy\n",
      "07/28/2019  06:00 PM               128 cnn7_Dropout.npy\n",
      "07/28/2019  06:00 PM               128 cnnOutput_Flatten.npy\n",
      "              12 File(s)      1,442,838 bytes\n",
      "               0 Dir(s)  2,970,391,187,456 bytes free\n"
     ]
    }
   ],
   "source": [
    "!dir *.npy"
   ]
  },
  {
   "cell_type": "markdown",
   "metadata": {},
   "source": [
    "### Re Load.\n",
    "\n",
    "Before we get into the new transfer learning model, lets see if we can create a new six classifer model re-load the weights and get it to make good predictions. This will prove to us the saved weights have value and that its possible to get a model running without training from scratch.\n"
   ]
  },
  {
   "cell_type": "code",
   "execution_count": 30,
   "metadata": {},
   "outputs": [],
   "source": [
    "#\n",
    "# We need a function that will take a model and load layers with names that match a given pattern.\n",
    "#\n",
    "def aij_load_cnn_layers(model,\n",
    "                        pattern = \".*\",\n",
    "                        trainable = True):\n",
    "    \n",
    "    for l in model_layers(model):\n",
    "        try:\n",
    "            if re.search(pattern, l.name):\n",
    "                w = np.load(l.name+'.npy',allow_pickle=True)\n",
    "                l.set_weights(w)\n",
    "                l.trainable = trainable\n",
    "                print(\"Loaded weights for Layer: \" + l.name + 'Trainable: ' + str(trainable))\n",
    "            else:\n",
    "                print(\"Ignored Layer:\" + l.name + \" as it does not match load pattern\")\n",
    "        except IOError as e:\n",
    "            print(\"No loadable weights for Layer: \"+l.name) \n",
    "        except:\n",
    "            print(\"Unexpected error:\", sys.exc_info()[0])\n",
    "    return"
   ]
  },
  {
   "cell_type": "markdown",
   "metadata": {},
   "source": [
    "**Note** for the load to work the model being loaded into must have layers that match exactly the model where the layers were saved from.\n",
    "\n",
    "#### Re run .. \n",
    "\n",
    "We create a **six** classifer model identical to the original but instead of training it we load the weights !."
   ]
  },
  {
   "cell_type": "code",
   "execution_count": 31,
   "metadata": {},
   "outputs": [],
   "source": [
    "# Model strcuture changes when complied for GPU, so we need to look in diffent places for the 'actual' layers\n",
    "def aij_model_summary(model):\n",
    "    \n",
    "    for l in model_layers(model):\n",
    "        print(l.name+\":: params #\"+str(l.count_params()))\n",
    "    return"
   ]
  },
  {
   "cell_type": "code",
   "execution_count": 32,
   "metadata": {},
   "outputs": [
    {
     "name": "stdout",
     "output_type": "stream",
     "text": [
      "cnn0Input:: params #0\n",
      "cnn1_Conv2d:: params #1216\n",
      "cnn2_MaxPool2D:: params #0\n",
      "cnn3_BatchNorm:: params #64\n",
      "cnn7_Dropout:: params #0\n",
      "cnnOutput_Flatten:: params #0\n",
      "clInput_Dense:: params #230425\n",
      "cl1_Dropout:: params #0\n",
      "clOutput:: params #156\n"
     ]
    }
   ],
   "source": [
    "#\n",
    "# Same model as before but we create it from scratch so it is not trained.\n",
    "#\n",
    "input_shape = (100, 100, 3)\n",
    "num_classes = 6\n",
    "model_name = \"classifier_reload_test\" + str(num_classes)\n",
    "\n",
    "model_reload_test = create_model(model_name, input_shape, num_classes)\n",
    "model_reload_test = model_compile(model_reload_test, GPU_COUNT)\n",
    "aij_model_summary(model_reload_test)\n"
   ]
  },
  {
   "cell_type": "markdown",
   "metadata": {},
   "source": [
    "Let's do a quick test and see how he model does before we load weights ... it should have a very poor performance"
   ]
  },
  {
   "cell_type": "code",
   "execution_count": 33,
   "metadata": {},
   "outputs": [
    {
     "name": "stdout",
     "output_type": "stream",
     "text": [
      "\n",
      "Overall Score : 30.0%\n"
     ]
    }
   ],
   "source": [
    "test_model_prediction(model_reload_test, x_test, y_test, 100)"
   ]
  },
  {
   "cell_type": "markdown",
   "metadata": {},
   "source": [
    "Now let's load the model weight and re-compile the model"
   ]
  },
  {
   "cell_type": "code",
   "execution_count": 34,
   "metadata": {},
   "outputs": [
    {
     "name": "stdout",
     "output_type": "stream",
     "text": [
      "Loaded weights for Layer: cnn0InputTrainable: True\n",
      "Loaded weights for Layer: cnn1_Conv2dTrainable: True\n",
      "Loaded weights for Layer: cnn2_MaxPool2DTrainable: True\n",
      "Loaded weights for Layer: cnn3_BatchNormTrainable: True\n",
      "Loaded weights for Layer: cnn7_DropoutTrainable: True\n",
      "Loaded weights for Layer: cnnOutput_FlattenTrainable: True\n",
      "Loaded weights for Layer: clInput_DenseTrainable: True\n",
      "Loaded weights for Layer: cl1_DropoutTrainable: True\n",
      "Loaded weights for Layer: clOutputTrainable: True\n"
     ]
    }
   ],
   "source": [
    "aij_load_cnn_layers(model_reload_test)\n",
    "model = model_compile(model, GPU_COUNT)"
   ]
  },
  {
   "cell_type": "markdown",
   "metadata": {},
   "source": [
    "Now if we test the model it should do very well - remember we have not trained it we have justed loaded trained weights."
   ]
  },
  {
   "cell_type": "code",
   "execution_count": 35,
   "metadata": {},
   "outputs": [
    {
     "name": "stdout",
     "output_type": "stream",
     "text": [
      "\n",
      "Overall Score : 100.0%\n"
     ]
    }
   ],
   "source": [
    "test_model_prediction(model_reload_test, x_test, y_test, 100)"
   ]
  },
  {
   "cell_type": "markdown",
   "metadata": {},
   "source": [
    "### Ready for Transfer Learning !\n",
    "\n",
    "OK, so now we have a model and it's saved weights that we want to re use. \n",
    "\n",
    "As a recap the model can classify six types of apple and we want to classify seven.\n",
    "\n",
    "#### Step 1 - create a new model \n",
    "\n",
    "With the same CNN structure as the original but a new seven class fully connected layer. We can re use the functions from before and create the CNN as it was but this time ask for a seven class FC layer."
   ]
  },
  {
   "cell_type": "code",
   "execution_count": 36,
   "metadata": {},
   "outputs": [
    {
     "name": "stdout",
     "output_type": "stream",
     "text": [
      "_________________________________________________________________\n",
      "Layer (type)                 Output Shape              Param #   \n",
      "=================================================================\n",
      "cnn0Input (InputLayer)       (None, 100, 100, 3)       0         \n",
      "_________________________________________________________________\n",
      "cnn1_Conv2d (Conv2D)         (None, 48, 48, 16)        1216      \n",
      "_________________________________________________________________\n",
      "cnn2_MaxPool2D (MaxPooling2D (None, 24, 24, 16)        0         \n",
      "_________________________________________________________________\n",
      "cnn3_BatchNorm (BatchNormali (None, 24, 24, 16)        64        \n",
      "_________________________________________________________________\n",
      "cnn7_Dropout (Dropout)       (None, 24, 24, 16)        0         \n",
      "_________________________________________________________________\n",
      "cnnOutput_Flatten (Flatten)  (None, 9216)              0         \n",
      "_________________________________________________________________\n",
      "clInput_Dense (Dense)        (None, 25)                230425    \n",
      "_________________________________________________________________\n",
      "cl1_Dropout (Dropout)        (None, 25)                0         \n",
      "_________________________________________________________________\n",
      "clOutput (Dense)             (None, 7)                 182       \n",
      "=================================================================\n",
      "Total params: 231,887\n",
      "Trainable params: 231,855\n",
      "Non-trainable params: 32\n",
      "_________________________________________________________________\n",
      "None\n"
     ]
    }
   ],
   "source": [
    "input_shape = (100, 100, 3) # Same Input Shape\n",
    "num_classes = 7             # This time we are going to be a seven class model\n",
    "model_name = \"classifier_\" + str(num_classes)\n",
    "\n",
    "model_7_classes = create_model(model_name, input_shape, num_classes)\n",
    "\n",
    "print(model_7_classes.summary())"
   ]
  },
  {
   "cell_type": "code",
   "execution_count": 37,
   "metadata": {},
   "outputs": [
    {
     "name": "stdout",
     "output_type": "stream",
     "text": [
      "loading [Apple Braeburn] one hot: [1.]\n",
      "Test Data\n",
      "....................................................................................................................................................................\n",
      "Training Data\n",
      "............................................................................................................................................................................................................................................................................................................................................................................................................................................................................................................\n"
     ]
    }
   ],
   "source": [
    "list_to_get = [\"Apple Braeburn\"]              \n",
    "x1_train, y1_train, x1_test, y1_test, _, item_dict = load_data(list_to_get, TEST_DATA, TRAIN_DATA)"
   ]
  },
  {
   "cell_type": "code",
   "execution_count": 38,
   "metadata": {},
   "outputs": [
    {
     "name": "stdout",
     "output_type": "stream",
     "text": [
      "\n",
      "Overall Score : 0.0%\n"
     ]
    }
   ],
   "source": [
    "test_model_prediction(model_7_classes, x1_test, y1_test, 10)"
   ]
  },
  {
   "cell_type": "code",
   "execution_count": 39,
   "metadata": {},
   "outputs": [],
   "source": [
    "cnn_weights = model.get_weights()"
   ]
  },
  {
   "cell_type": "code",
   "execution_count": 40,
   "metadata": {},
   "outputs": [
    {
     "name": "stdout",
     "output_type": "stream",
     "text": [
      "0 : (5, 5, 3, 16)\n",
      "1 : (16,)\n",
      "2 : (16,)\n",
      "3 : (16,)\n",
      "4 : (9216, 25)\n",
      "5 : (25,)\n",
      "6 : (25, 6)\n",
      "7 : (6,)\n",
      "8 : (16,)\n",
      "9 : (16,)\n"
     ]
    }
   ],
   "source": [
    "for i, w in enumerate(cnn_weights):\n",
    "    print(str(i) + ' : ' + str(w.shape))"
   ]
  },
  {
   "cell_type": "code",
   "execution_count": 41,
   "metadata": {},
   "outputs": [
    {
     "name": "stdout",
     "output_type": "stream",
     "text": [
      "cnn0Input:: params #0\n",
      "lambda_5:: params #0\n",
      "lambda_6:: params #0\n",
      "model_2:: params #231861\n",
      "clOutput:: params #0\n"
     ]
    }
   ],
   "source": [
    "aij_model_summary(model)"
   ]
  },
  {
   "cell_type": "markdown",
   "metadata": {
    "collapsed": true
   },
   "source": [
    "## Articles of Interest\n",
    "\n",
    "[gpu article 1](https://datascience.stackexchange.com/questions/23895/multi-gpu-in-keras)\n",
    "[Keras Conv2D](https://www.pyimagesearch.com/2018/12/31/keras-conv2d-and-convolutional-layers/)"
   ]
  },
  {
   "cell_type": "code",
   "execution_count": 42,
   "metadata": {},
   "outputs": [
    {
     "name": "stdout",
     "output_type": "stream",
     "text": [
      "\n",
      "Overall Score : 100.0%\n"
     ]
    }
   ],
   "source": [
    "test_model_prediction(model_reload_test, x_test, y_test, 10)"
   ]
  },
  {
   "cell_type": "code",
   "execution_count": 43,
   "metadata": {},
   "outputs": [
    {
     "name": "stdout",
     "output_type": "stream",
     "text": [
      "Loaded weights for Layer: cnn0InputTrainable: False\n",
      "Loaded weights for Layer: cnn1_Conv2dTrainable: False\n",
      "Loaded weights for Layer: cnn2_MaxPool2DTrainable: False\n",
      "Loaded weights for Layer: cnn3_BatchNormTrainable: False\n",
      "Loaded weights for Layer: cnn7_DropoutTrainable: False\n",
      "Loaded weights for Layer: cnnOutput_FlattenTrainable: False\n",
      "Ignored Layer:clInput_Dense as it does not match load pattern\n",
      "Ignored Layer:cl1_Dropout as it does not match load pattern\n",
      "Ignored Layer:clOutput as it does not match load pattern\n"
     ]
    }
   ],
   "source": [
    "# Need to recompile model after load\n",
    "aij_load_cnn_layers(model_7_classes, pattern = \"cnn.*\", trainable = False)\n"
   ]
  },
  {
   "cell_type": "code",
   "execution_count": 44,
   "metadata": {},
   "outputs": [
    {
     "ename": "TypeError",
     "evalue": "model_compile() missing 1 required positional argument: 'num_gpu'",
     "output_type": "error",
     "traceback": [
      "\u001b[1;31m---------------------------------------------------------------------------\u001b[0m",
      "\u001b[1;31mTypeError\u001b[0m                                 Traceback (most recent call last)",
      "\u001b[1;32m<ipython-input-44-497b90fef9ac>\u001b[0m in \u001b[0;36m<module>\u001b[1;34m\u001b[0m\n\u001b[1;32m----> 1\u001b[1;33m \u001b[0mmodel_7_classes\u001b[0m \u001b[1;33m=\u001b[0m \u001b[0mmodel_compile\u001b[0m\u001b[1;33m(\u001b[0m\u001b[0mmodel_7_classes\u001b[0m\u001b[1;33m)\u001b[0m\u001b[1;33m\u001b[0m\u001b[1;33m\u001b[0m\u001b[0m\n\u001b[0m",
      "\u001b[1;31mTypeError\u001b[0m: model_compile() missing 1 required positional argument: 'num_gpu'"
     ]
    }
   ],
   "source": [
    "model_7_classes = model_compile(model_7_classes)"
   ]
  },
  {
   "cell_type": "code",
   "execution_count": null,
   "metadata": {},
   "outputs": [],
   "source": [
    "def one_hot_transform_6_to_7_class(y_6c):\n",
    "    sh = y_6c.shape\n",
    "    y_7c = np.zeros((sh[0], sh[1]+1))\n",
    "    y_7c[:,:-1] = y_6c\n",
    "    return y_7c"
   ]
  },
  {
   "cell_type": "code",
   "execution_count": null,
   "metadata": {},
   "outputs": [],
   "source": [
    "y_train_7c = one_hot_transform_6_to_7_class(y_train)\n",
    "y_test_7c = one_hot_transform_6_to_7_class(y_test)"
   ]
  },
  {
   "cell_type": "code",
   "execution_count": null,
   "metadata": {},
   "outputs": [],
   "source": [
    "test_model_prediction(model_7_classes, x_test, y_test_7c, 10)"
   ]
  },
  {
   "cell_type": "code",
   "execution_count": null,
   "metadata": {},
   "outputs": [],
   "source": [
    "batch_size = 32\n",
    "num_epochs = 5\n",
    "history = model_7_classes.fit(x_train, y_train_7c,\n",
    "                              epochs=num_epochs,\n",
    "                              batch_size=batch_size,\n",
    "                              shuffle=True,\n",
    "                              validation_data=(x_test, y_test_7c)\n",
    "                             )"
   ]
  },
  {
   "cell_type": "code",
   "execution_count": null,
   "metadata": {},
   "outputs": [],
   "source": [
    "test_model_prediction(model_7_classes, x_test, y_test_7c, 10)"
   ]
  },
  {
   "cell_type": "code",
   "execution_count": null,
   "metadata": {},
   "outputs": [],
   "source": [
    "epocs = np.arange(0,num_epochs,1)\n",
    "\n",
    "fig, ax1 = plt.subplots()\n",
    "plt.title('Loss')\n",
    "\n",
    "color = 'tab:red'\n",
    "ax1.set_xlabel('Epoc')\n",
    "ax1.set_ylabel('Traing Loss', color=color)\n",
    "ax1.plot(epocs, history.history['loss'], color=color)\n",
    "ax1.tick_params(axis='y', labelcolor=color)\n",
    "\n",
    "ax2 = ax1.twinx()  # instantiate a second axes that shares the same x-axis\n",
    "\n",
    "color = 'tab:blue'\n",
    "ax2.set_ylabel('Validation Loss', color=color)  # we already handled the x-label with ax1\n",
    "ax2.plot(epocs, history.history['val_loss'], color=color)\n",
    "ax2.tick_params(axis='y', labelcolor=color)\n",
    "\n",
    "fig.tight_layout()  # otherwise the right y-label is slightly clipped\n",
    "plt.show()"
   ]
  },
  {
   "cell_type": "code",
   "execution_count": null,
   "metadata": {},
   "outputs": [],
   "source": [
    "def one_hot_single_class_to_7_class(y_1c):\n",
    "    sh = y_1c.shape\n",
    "    y_7c = np.zeros((sh[0], sh[1]+6))\n",
    "    y_7c[:,6] = y_1c.reshape((sh[0]))\n",
    "    return y_7c"
   ]
  },
  {
   "cell_type": "code",
   "execution_count": null,
   "metadata": {},
   "outputs": [],
   "source": [
    "y1_test_7c = one_hot_single_class_to_7_class(y1_test)\n",
    "y1_train_7c = one_hot_single_class_to_7_class(y1_train)\n",
    "print(y1_test_7c.shape)\n",
    "print(y1_test_7c[0])"
   ]
  },
  {
   "cell_type": "code",
   "execution_count": null,
   "metadata": {},
   "outputs": [],
   "source": [
    "test_model_prediction(model_7_classes, x1_test, y1_test_7c, 10)"
   ]
  },
  {
   "cell_type": "code",
   "execution_count": null,
   "metadata": {},
   "outputs": [],
   "source": [
    "x_all_train = np.concatenate((x_train, x1_train), axis=0)\n",
    "x_all_test = np.concatenate((x_test, x1_test), axis=0)\n",
    "y_all_train = np.concatenate((y_train_7c, y1_train_7c), axis=0)\n",
    "y_all_test = np.concatenate((y_test_7c, y1_test_7c), axis=0)\n",
    "print(x_all_train.shape)\n",
    "print(x_all_test.shape)\n",
    "print(y_all_train.shape)\n",
    "print(y_all_test.shape)"
   ]
  },
  {
   "cell_type": "code",
   "execution_count": null,
   "metadata": {},
   "outputs": [],
   "source": [
    "batch_size = 32\n",
    "num_epochs = 5\n",
    "history = model_7_classes.fit(x_all_train, y_all_train,\n",
    "                              epochs=num_epochs,\n",
    "                              batch_size=batch_size,\n",
    "                              shuffle=True,\n",
    "                              validation_data=(x_all_test, y_all_test)\n",
    "                             )"
   ]
  },
  {
   "cell_type": "code",
   "execution_count": null,
   "metadata": {},
   "outputs": [],
   "source": [
    "test_model_prediction(model_7_classes, x_test, y_test_7c, 10)"
   ]
  },
  {
   "cell_type": "code",
   "execution_count": null,
   "metadata": {},
   "outputs": [],
   "source": [
    "test_model_prediction(model_7_classes, x1_test, y1_test_7c, 10)"
   ]
  },
  {
   "cell_type": "code",
   "execution_count": null,
   "metadata": {},
   "outputs": [],
   "source": []
  }
 ],
 "metadata": {
  "kernelspec": {
   "display_name": "Python 3",
   "language": "python",
   "name": "python3"
  },
  "language_info": {
   "codemirror_mode": {
    "name": "ipython",
    "version": 3
   },
   "file_extension": ".py",
   "mimetype": "text/x-python",
   "name": "python",
   "nbconvert_exporter": "python",
   "pygments_lexer": "ipython3",
   "version": "3.7.3"
  }
 },
 "nbformat": 4,
 "nbformat_minor": 2
}
