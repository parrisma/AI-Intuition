{
 "cells": [
  {
   "cell_type": "markdown",
   "metadata": {},
   "source": [
    "![](../assets/images/construction.gif)"
   ]
  },
  {
   "cell_type": "markdown",
   "metadata": {},
   "source": [
    "# Journey 4\n",
    "## Part 1\n"
   ]
  },
  {
   "cell_type": "markdown",
   "metadata": {},
   "source": [
    "### Transfer Learning \n",
    "\n",
    "This is simply where we train a network for one task and then use some or all of that learning in a different task."
   ]
  },
  {
   "cell_type": "code",
   "execution_count": 4,
   "metadata": {},
   "outputs": [],
   "source": [
    "from os import listdir\n",
    "from os.path import isdir, isfile, join\n",
    "import re\n",
    "import numpy as np\n",
    "from PIL import Image\n",
    "import random\n",
    "import re\n",
    "import os"
   ]
  },
  {
   "cell_type": "code",
   "execution_count": 5,
   "metadata": {},
   "outputs": [],
   "source": [
    "DATA_DIR = '../data/fruits-360-data/fruits-360'\n",
    "TEST_DATA = DATA_DIR + '/Test'\n",
    "TRAIN_DATA = DATA_DIR + '/Training'"
   ]
  },
  {
   "cell_type": "code",
   "execution_count": 6,
   "metadata": {},
   "outputs": [],
   "source": [
    "#\n",
    "# Create a one-hot encoding for the given list\n",
    "#\n",
    "def create_one_hot_encoding_dicts(list_to_encode):\n",
    "    list_to_one_hot = dict()\n",
    "    one_hot_to_item = dict()\n",
    "    for i, l in enumerate(list_to_encode):\n",
    "        oh = np.zeros((len(list_to_encode)))\n",
    "        oh[i] = 1\n",
    "        list_to_one_hot[l] = oh\n",
    "        one_hot_to_item[np.array2string(oh)] = l\n",
    "    return list_to_one_hot, one_hot_to_item"
   ]
  },
  {
   "cell_type": "code",
   "execution_count": 7,
   "metadata": {},
   "outputs": [],
   "source": [
    "#\n",
    "# Return a list of only the JPG files for a given dir\n",
    "#\n",
    "def list_files(data_dir):\n",
    "    jpg_files = [f for f in listdir(data_dir) if isfile(join(data_dir, f)) and re.search('\\.jpg$',f,flags=re.IGNORECASE)]\n",
    "    return jpg_files"
   ]
  },
  {
   "cell_type": "code",
   "execution_count": 8,
   "metadata": {},
   "outputs": [],
   "source": [
    "#\n",
    "# Load a given list of fruits from the selected data set location\n",
    "#\n",
    "def load_data(fruits_to_get, \n",
    "              test_data_dir,\n",
    "              train_data_dir\n",
    "             ):\n",
    "    \n",
    "    one_hot_dict, item_dict = create_one_hot_encoding_dicts(fruits_to_get)\n",
    "        \n",
    "    test_data = []\n",
    "    train_data = []\n",
    "    \n",
    "    for fruit in fruits_to_get:\n",
    "        \n",
    "        test_fruit_dir = test_data_dir + \"/\" + fruit\n",
    "        train_fruit_dir = train_data_dir + \"/\" + fruit\n",
    "        \n",
    "        if isdir(test_fruit_dir) and isdir(train_fruit_dir):\n",
    "            one_hot_val = one_hot_dict[fruit]\n",
    "            \n",
    "            print(\"loading [\" + fruit + \"]\" + \" one hot: \" + str(one_hot_val))\n",
    "            \n",
    "            print('Test Data')\n",
    "            for img_file in list_files(test_fruit_dir):\n",
    "                test_data.append([np.array(Image.open(join(test_fruit_dir,img_file))), one_hot_val])\n",
    "                print('.', end='')\n",
    "            print('')\n",
    "\n",
    "            print('Training Data')\n",
    "            for img_file in list_files(train_fruit_dir):\n",
    "                train_data.append([np.array(Image.open(join(train_fruit_dir,img_file))), one_hot_val])\n",
    "                print('.', end='')\n",
    "            print('')\n",
    "\n",
    "            img_shape = test_data[0][0].shape\n",
    "            one_hot_shape = test_data[0][1].shape\n",
    "            \n",
    "            # Convert data to numpy\n",
    "            x_test = np.zeros((len(test_data), *img_shape))\n",
    "            y_test = np.zeros((len(test_data), one_hot_shape[0]))\n",
    "            x_train = np.zeros((len(train_data), *img_shape))\n",
    "            y_train = np.zeros((len(train_data), one_hot_shape[0]))\n",
    "            \n",
    "            i = 0 \n",
    "            rnd_idx = random.sample(range(0, len(test_data)), len(test_data))\n",
    "            for img, one_hot in test_data:\n",
    "                x_test[rnd_idx[i]] = img / 255.0  # rescale 0.0 to 1.0\n",
    "                y_test[rnd_idx[i]] = one_hot\n",
    "                i += 1\n",
    "\n",
    "            i = 0 \n",
    "            rnd_idx = random.sample(range(0, len(train_data)), len(train_data))\n",
    "            for img, one_hot in train_data:\n",
    "                x_train[rnd_idx[i]] = img / 255.0  # rescale 0.0 to 1.0\n",
    "                y_train[rnd_idx[i]] = one_hot\n",
    "                i += 1\n",
    "\n",
    "        else:\n",
    "            raise Exception(\"Cannot load unknown fruit - missing from test and/or train data set[\" + fruit + \"]\")\n",
    "            \n",
    "    return x_train, \\\n",
    "           y_train, \\\n",
    "           x_test, \\\n",
    "           y_test, \\\n",
    "           one_hot_dict, \\\n",
    "           item_dict\n",
    "        "
   ]
  },
  {
   "cell_type": "code",
   "execution_count": 9,
   "metadata": {},
   "outputs": [
    {
     "name": "stdout",
     "output_type": "stream",
     "text": [
      "loading [Apple Golden 1] one hot: [1. 0. 0. 0. 0. 0.]\n",
      "Test Data\n",
      "....................................................................................................................................................................\n",
      "Training Data\n",
      "............................................................................................................................................................................................................................................................................................................................................................................................................................................................................................................\n",
      "loading [Apple Golden 2] one hot: [0. 1. 0. 0. 0. 0.]\n",
      "Test Data\n",
      "....................................................................................................................................................................\n",
      "Training Data\n",
      "............................................................................................................................................................................................................................................................................................................................................................................................................................................................................................................\n",
      "loading [Apple Golden 3] one hot: [0. 0. 1. 0. 0. 0.]\n",
      "Test Data\n",
      ".................................................................................................................................................................\n",
      "Training Data\n",
      ".................................................................................................................................................................................................................................................................................................................................................................................................................................................................................................\n",
      "loading [Apple Red 1] one hot: [0. 0. 0. 1. 0. 0.]\n",
      "Test Data\n",
      "....................................................................................................................................................................\n",
      "Training Data\n",
      "............................................................................................................................................................................................................................................................................................................................................................................................................................................................................................................\n",
      "loading [Apple Red 2] one hot: [0. 0. 0. 0. 1. 0.]\n",
      "Test Data\n",
      "....................................................................................................................................................................\n",
      "Training Data\n",
      "............................................................................................................................................................................................................................................................................................................................................................................................................................................................................................................\n",
      "loading [Apple Red 3] one hot: [0. 0. 0. 0. 0. 1.]\n",
      "Test Data\n",
      "................................................................................................................................................\n",
      "Training Data\n",
      ".............................................................................................................................................................................................................................................................................................................................................................................................................................................\n"
     ]
    }
   ],
   "source": [
    "list_to_get = [\"Apple Golden 1\",\n",
    "               \"Apple Golden 2\",\n",
    "               \"Apple Golden 3\",\n",
    "               \"Apple Red 1\",\n",
    "               \"Apple Red 2\",\n",
    "               \"Apple Red 3\"]              \n",
    "x_train, y_train, x_test, y_test, _, item_dict = load_data(list_to_get, TEST_DATA, TRAIN_DATA)"
   ]
  },
  {
   "cell_type": "code",
   "execution_count": 10,
   "metadata": {},
   "outputs": [
    {
     "name": "stdout",
     "output_type": "stream",
     "text": [
      "(961, 100, 100, 3)\n",
      "(961, 6)\n",
      "(2878, 100, 100, 3)\n",
      "(2878, 6)\n"
     ]
    }
   ],
   "source": [
    "print(x_test.shape)\n",
    "print(y_test.shape)\n",
    "print(x_train.shape)\n",
    "print(y_train.shape)\n",
    "        "
   ]
  },
  {
   "cell_type": "code",
   "execution_count": 11,
   "metadata": {},
   "outputs": [
    {
     "data": {
      "image/png": "[encoded data removed]",
      "text/plain": [
       "<Figure size 432x288 with 9 Axes>"
      ]
     },
     "metadata": {
      "needs_background": "light"
     },
     "output_type": "display_data"
    }
   ],
   "source": [
    "import matplotlib.pyplot as plt\n",
    "%matplotlib inline  \n",
    "\n",
    "for i in range(9):\n",
    "    plt.subplot(3,3,i+1)\n",
    "    plt.imshow(x_train[i], interpolation='none')"
   ]
  },
  {
   "cell_type": "code",
   "execution_count": 12,
   "metadata": {},
   "outputs": [
    {
     "name": "stderr",
     "output_type": "stream",
     "text": [
      "Using TensorFlow backend.\n"
     ]
    }
   ],
   "source": [
    "from keras import backend as K\n",
    "from keras.callbacks import TensorBoard\n",
    "from keras.datasets import mnist\n",
    "from keras.layers import Input, Dense, Conv2D, Flatten, MaxPooling2D, BatchNormalization, Dropout\n",
    "from keras.losses import categorical_crossentropy\n",
    "from keras.models import Model, Sequential\n",
    "from keras.optimizers import SGD\n",
    "from keras.utils import to_categorical\n",
    "from keras.utils import multi_gpu_model\n",
    "import tensorflow as tf"
   ]
  },
  {
   "cell_type": "code",
   "execution_count": 13,
   "metadata": {},
   "outputs": [
    {
     "name": "stdout",
     "output_type": "stream",
     "text": [
      "[name: \"/device:CPU:0\"\n",
      "device_type: \"CPU\"\n",
      "memory_limit: 268435456\n",
      "locality {\n",
      "}\n",
      "incarnation: 6661939913897580798\n",
      ", name: \"/device:GPU:0\"\n",
      "device_type: \"GPU\"\n",
      "memory_limit: 4944779673\n",
      "locality {\n",
      "  bus_id: 1\n",
      "  links {\n",
      "    link {\n",
      "      device_id: 1\n",
      "      type: \"StreamExecutor\"\n",
      "      strength: 1\n",
      "    }\n",
      "  }\n",
      "}\n",
      "incarnation: 1840910352819835781\n",
      "physical_device_desc: \"device: 0, name: GeForce GTX TITAN Z, pci bus id: 0000:04:00.0, compute capability: 3.5\"\n",
      ", name: \"/device:GPU:1\"\n",
      "device_type: \"GPU\"\n",
      "memory_limit: 4944779673\n",
      "locality {\n",
      "  bus_id: 1\n",
      "  links {\n",
      "    link {\n",
      "      type: \"StreamExecutor\"\n",
      "      strength: 1\n",
      "    }\n",
      "  }\n",
      "}\n",
      "incarnation: 4108759844119524582\n",
      "physical_device_desc: \"device: 1, name: GeForce GTX TITAN Z, pci bus id: 0000:05:00.0, compute capability: 3.5\"\n",
      "]\n"
     ]
    }
   ],
   "source": [
    "from tensorflow.python.client import device_lib\n",
    "print(device_lib.list_local_devices())"
   ]
  },
  {
   "cell_type": "code",
   "execution_count": 40,
   "metadata": {},
   "outputs": [],
   "source": [
    "def build_cnn_layers(model_name,\n",
    "                     input_shape):\n",
    "    cnn_in = Input(shape=input_shape, name = model_name+\"_cnn0Input\")\n",
    "    cnn_l1 = Conv2D(16, kernel_size=(5, 5), strides=(1, 1), activation='relu', name = model_name+\"_cnn1_Conv2d\")(cnn_in) \n",
    "    cnn_l2 = MaxPooling2D(pool_size=(2, 2), name = model_name+\"_cnn2_MaxPool2D\")(cnn_l1)\n",
    "    cnn_l3 = BatchNormalization(name = model_name+\"_cnn3_BatchNorm\")(cnn_l2) \n",
    "    cnn_l4 = Conv2D(32, kernel_size=(3, 3), strides=(2, 2), activation='relu', name = model_name+\"_cnn3_conv2d\")(cnn_l3)\n",
    "    cnn_l5 = MaxPooling2D(pool_size=(2, 2), name = model_name+\"_cnn5_MaxPool2D\")(cnn_l4)\n",
    "    cnn_l6 = BatchNormalization(name = model_name+\"_cnn6_BatchNorm\")(cnn_l5) \n",
    "    cnn_l7 = Dropout(rate=0.25,name = model_name+\"_cnn7_Dropout\")(cnn_l6) \n",
    "    cnn_out = Flatten(name = model_name+\"_cnnOutput_Flatten\")(cnn_l7)\n",
    "    return cnn_in, cnn_out"
   ]
  },
  {
   "cell_type": "code",
   "execution_count": 41,
   "metadata": {},
   "outputs": [],
   "source": [
    "def build_classifier_layers(model_name,\n",
    "                            num_classes,\n",
    "                            input_layer):\n",
    "    cl_l1 = Dense(500, activation='relu', name = model_name+\"_clInput_Dense\")(input_layer)\n",
    "    cl_l2 = Dropout(rate=0.25, name = model_name+\"_cl1_Dropout\")(cl_l1)\n",
    "    cl_out = Dense(num_classes, activation='softmax', name = model_name+\"_clOutput\")(cl_l2)\n",
    "    return cl_out"
   ]
  },
  {
   "cell_type": "code",
   "execution_count": 106,
   "metadata": {},
   "outputs": [
    {
     "name": "stdout",
     "output_type": "stream",
     "text": [
      "_________________________________________________________________\n",
      "Layer (type)                 Output Shape              Param #   \n",
      "=================================================================\n",
      "classifier_6_cnn0Input (Inpu (None, 100, 100, 3)       0         \n",
      "_________________________________________________________________\n",
      "classifier_6_cnn1_Conv2d (Co (None, 96, 96, 16)        1216      \n",
      "_________________________________________________________________\n",
      "classifier_6_cnn2_MaxPool2D  (None, 48, 48, 16)        0         \n",
      "_________________________________________________________________\n",
      "classifier_6_cnn3_BatchNorm  (None, 48, 48, 16)        64        \n",
      "_________________________________________________________________\n",
      "classifier_6_cnn3_conv2d (Co (None, 23, 23, 32)        4640      \n",
      "_________________________________________________________________\n",
      "classifier_6_cnn5_MaxPool2D  (None, 11, 11, 32)        0         \n",
      "_________________________________________________________________\n",
      "classifier_6_cnn6_BatchNorm  (None, 11, 11, 32)        128       \n",
      "_________________________________________________________________\n",
      "classifier_6_cnn7_Dropout (D (None, 11, 11, 32)        0         \n",
      "_________________________________________________________________\n",
      "classifier_6_cnnOutput_Flatt (None, 3872)              0         \n",
      "_________________________________________________________________\n",
      "classifier_6_clInput_Dense ( (None, 500)               1936500   \n",
      "_________________________________________________________________\n",
      "classifier_6_cl1_Dropout (Dr (None, 500)               0         \n",
      "_________________________________________________________________\n",
      "classifier_6_clOutput (Dense (None, 6)                 3006      \n",
      "=================================================================\n",
      "Total params: 1,945,554\n",
      "Trainable params: 1,945,458\n",
      "Non-trainable params: 96\n",
      "_________________________________________________________________\n",
      "None\n"
     ]
    }
   ],
   "source": [
    "input_shape = (100, 100, 3)\n",
    "num_classes = 6\n",
    "model_name = \"classifier_\" + str(num_classes)\n",
    "\n",
    "model_cnn_in, model_cnn_out = build_cnn_layers(model_name, input_shape)\n",
    "model_cl_out = build_classifier_layers(model_name, num_classes, model_cnn_out)\n",
    "\n",
    "model = Model(inputs=[model_cnn_in],outputs=[model_cl_out])\n",
    "model.name = model_name\n",
    "\n",
    "print(model.summary())"
   ]
  },
  {
   "cell_type": "code",
   "execution_count": 107,
   "metadata": {},
   "outputs": [],
   "source": [
    "model = multi_gpu_model(model, gpus=2)"
   ]
  },
  {
   "cell_type": "code",
   "execution_count": 108,
   "metadata": {},
   "outputs": [],
   "source": [
    "# Compile Model\n",
    "model.compile(loss=categorical_crossentropy,\n",
    "              optimizer=SGD(lr=0.01),\n",
    "              metrics=['accuracy'])"
   ]
  },
  {
   "cell_type": "code",
   "execution_count": 80,
   "metadata": {},
   "outputs": [
    {
     "name": "stdout",
     "output_type": "stream",
     "text": [
      "Train on 2878 samples, validate on 961 samples\n",
      "Epoch 1/30\n",
      "2878/2878 [==============================] - 3s 877us/step - loss: 0.0233 - acc: 0.9965 - val_loss: 0.0297 - val_acc: 0.9990\n",
      "Epoch 2/30\n",
      "2878/2878 [==============================] - 2s 847us/step - loss: 0.0224 - acc: 0.9948 - val_loss: 0.3248 - val_acc: 0.8543\n",
      "Epoch 3/30\n",
      "2878/2878 [==============================] - 2s 855us/step - loss: 0.0098 - acc: 0.9983 - val_loss: 0.0503 - val_acc: 0.9802\n",
      "Epoch 4/30\n",
      "2878/2878 [==============================] - 2s 844us/step - loss: 0.0077 - acc: 0.9993 - val_loss: 0.0865 - val_acc: 0.9906\n",
      "Epoch 5/30\n",
      "2878/2878 [==============================] - 2s 857us/step - loss: 0.0066 - acc: 0.9986 - val_loss: 0.0145 - val_acc: 0.9990\n",
      "Epoch 6/30\n",
      "2878/2878 [==============================] - 2s 845us/step - loss: 0.0068 - acc: 0.9993 - val_loss: 0.0313 - val_acc: 0.9969\n",
      "Epoch 7/30\n",
      "2878/2878 [==============================] - 2s 850us/step - loss: 0.0064 - acc: 0.9983 - val_loss: 0.0472 - val_acc: 0.9906\n",
      "Epoch 8/30\n",
      "2878/2878 [==============================] - 2s 850us/step - loss: 0.0086 - acc: 0.9983 - val_loss: 0.0265 - val_acc: 0.9927\n",
      "Epoch 9/30\n",
      "2878/2878 [==============================] - 2s 857us/step - loss: 0.0025 - acc: 1.0000 - val_loss: 0.0093 - val_acc: 0.9990\n",
      "Epoch 10/30\n",
      "2878/2878 [==============================] - 2s 850us/step - loss: 0.0041 - acc: 0.9993 - val_loss: 0.0095 - val_acc: 0.9990\n",
      "Epoch 11/30\n",
      "2878/2878 [==============================] - 2s 850us/step - loss: 0.0023 - acc: 1.0000 - val_loss: 0.0103 - val_acc: 0.9990\n",
      "Epoch 12/30\n",
      "2878/2878 [==============================] - 3s 872us/step - loss: 0.0245 - acc: 0.9934 - val_loss: 1.3844 - val_acc: 0.8148\n",
      "Epoch 13/30\n",
      "2878/2878 [==============================] - 3s 874us/step - loss: 0.0061 - acc: 0.9986 - val_loss: 0.0241 - val_acc: 0.9958\n",
      "Epoch 14/30\n",
      "2878/2878 [==============================] - 3s 872us/step - loss: 0.0028 - acc: 1.0000 - val_loss: 0.0110 - val_acc: 0.9990\n",
      "Epoch 15/30\n",
      "2878/2878 [==============================] - 2s 868us/step - loss: 0.0024 - acc: 1.0000 - val_loss: 0.0074 - val_acc: 0.9990\n",
      "Epoch 16/30\n",
      "2878/2878 [==============================] - 2s 855us/step - loss: 0.0030 - acc: 0.9993 - val_loss: 0.0183 - val_acc: 0.9990\n",
      "Epoch 17/30\n",
      "2878/2878 [==============================] - 2s 858us/step - loss: 0.0037 - acc: 0.9993 - val_loss: 0.0074 - val_acc: 0.9990\n",
      "Epoch 18/30\n",
      "2878/2878 [==============================] - 2s 852us/step - loss: 0.0022 - acc: 0.9997 - val_loss: 0.0095 - val_acc: 0.9990\n",
      "Epoch 19/30\n",
      "2878/2878 [==============================] - 2s 859us/step - loss: 0.0014 - acc: 1.0000 - val_loss: 0.0046 - val_acc: 0.9990\n",
      "Epoch 20/30\n",
      "2878/2878 [==============================] - 2s 845us/step - loss: 0.0021 - acc: 0.9997 - val_loss: 0.0069 - val_acc: 0.9990\n",
      "Epoch 21/30\n",
      "2878/2878 [==============================] - 2s 848us/step - loss: 0.0019 - acc: 1.0000 - val_loss: 0.0061 - val_acc: 0.9990\n",
      "Epoch 22/30\n",
      "2878/2878 [==============================] - 2s 840us/step - loss: 0.0019 - acc: 1.0000 - val_loss: 0.0088 - val_acc: 0.9990\n",
      "Epoch 23/30\n",
      "2878/2878 [==============================] - 2s 851us/step - loss: 0.0036 - acc: 0.9997 - val_loss: 0.0096 - val_acc: 0.9990\n",
      "Epoch 24/30\n",
      "2878/2878 [==============================] - 2s 844us/step - loss: 0.0012 - acc: 1.0000 - val_loss: 0.0041 - val_acc: 0.9990\n",
      "Epoch 25/30\n",
      "2878/2878 [==============================] - 2s 859us/step - loss: 0.0016 - acc: 1.0000 - val_loss: 0.0048 - val_acc: 0.9990\n",
      "Epoch 26/30\n",
      "2878/2878 [==============================] - 3s 899us/step - loss: 0.0014 - acc: 0.9997 - val_loss: 0.0065 - val_acc: 0.9990\n",
      "Epoch 27/30\n",
      "2878/2878 [==============================] - 2s 817us/step - loss: 0.0014 - acc: 1.0000 - val_loss: 0.0123 - val_acc: 0.9990\n",
      "Epoch 28/30\n",
      "2878/2878 [==============================] - 2s 804us/step - loss: 8.8805e-04 - acc: 1.0000 - val_loss: 0.0035 - val_acc: 0.9990\n",
      "Epoch 29/30\n",
      "2878/2878 [==============================] - 2s 797us/step - loss: 0.0010 - acc: 1.0000 - val_loss: 0.0047 - val_acc: 0.9990\n",
      "Epoch 30/30\n",
      "2878/2878 [==============================] - 2s 820us/step - loss: 9.0446e-04 - acc: 1.0000 - val_loss: 0.0041 - val_acc: 0.9990\n"
     ]
    }
   ],
   "source": [
    "batch_size = 32\n",
    "num_epochs = 30\n",
    "history = model.fit(x_train, y_train,\n",
    "                    epochs=num_epochs,\n",
    "                    batch_size=batch_size,\n",
    "                    shuffle=True,\n",
    "                    validation_data=(x_test, y_test)\n",
    "                    )"
   ]
  },
  {
   "cell_type": "code",
   "execution_count": 81,
   "metadata": {},
   "outputs": [
    {
     "data": {
      "image/png": "[encoded data removed]",
      "text/plain": [
       "<Figure size 432x288 with 2 Axes>"
      ]
     },
     "metadata": {
      "needs_background": "light"
     },
     "output_type": "display_data"
    }
   ],
   "source": [
    "epocs = np.arange(0,num_epochs,1)\n",
    "\n",
    "fig, ax1 = plt.subplots()\n",
    "plt.title('Loss')\n",
    "\n",
    "color = 'tab:red'\n",
    "ax1.set_xlabel('Epoc')\n",
    "ax1.set_ylabel('Traing Loss', color=color)\n",
    "ax1.plot(epocs, history.history['loss'], color=color)\n",
    "ax1.tick_params(axis='y', labelcolor=color)\n",
    "\n",
    "ax2 = ax1.twinx()  # instantiate a second axes that shares the same x-axis\n",
    "\n",
    "color = 'tab:blue'\n",
    "ax2.set_ylabel('Validation Loss', color=color)  # we already handled the x-label with ax1\n",
    "ax2.plot(epocs, history.history['val_loss'], color=color)\n",
    "ax2.tick_params(axis='y', labelcolor=color)\n",
    "\n",
    "fig.tight_layout()  # otherwise the right y-label is slightly clipped\n",
    "plt.show()"
   ]
  },
  {
   "cell_type": "code",
   "execution_count": 82,
   "metadata": {},
   "outputs": [
    {
     "data": {
      "image/png": "[encoded data removed]",
      "text/plain": [
       "<Figure size 432x288 with 2 Axes>"
      ]
     },
     "metadata": {
      "needs_background": "light"
     },
     "output_type": "display_data"
    }
   ],
   "source": [
    "epocs = np.arange(0,num_epochs,1)\n",
    "\n",
    "fig, ax1 = plt.subplots()\n",
    "plt.title('Accuracy')\n",
    "\n",
    "color = 'tab:red'\n",
    "ax1.set_xlabel('Epoc')\n",
    "ax1.set_ylabel('Traing Accuracy', color=color)\n",
    "ax1.plot(epocs, history.history['acc'], color=color)\n",
    "ax1.tick_params(axis='y', labelcolor=color)\n",
    "\n",
    "ax2 = ax1.twinx()  # instantiate a second axes that shares the same x-axis\n",
    "\n",
    "color = 'tab:blue'\n",
    "ax2.set_ylabel('Validation Accuracy', color=color)  # we already handled the x-label with ax1\n",
    "ax2.plot(epocs, history.history['val_acc'], color=color)\n",
    "ax2.tick_params(axis='y', labelcolor=color)\n",
    "\n",
    "fig.tight_layout()  # otherwise the right y-label is slightly clipped\n",
    "plt.show()"
   ]
  },
  {
   "cell_type": "code",
   "execution_count": 95,
   "metadata": {},
   "outputs": [],
   "source": [
    "def test_model_prediction(x_test_set, \n",
    "                          y_test_set,\n",
    "                          num_to_test):\n",
    "    num_passed = 0\n",
    "    list_to_test = np.random.randint(len(x_test_set), size=num_to_test)\n",
    "\n",
    "    for i in list_to_test:\n",
    "        xt = x_test_set[i]\n",
    "        xt = np.reshape(xt,(1,100,100,3))\n",
    "        if(np.argmax(model.predict(xt)) == np.argmax(y_test_set[i])):\n",
    "            print(\"Correct Prediction for x_test element: \" + str(i))\n",
    "            num_passed += 1\n",
    "        else:\n",
    "            print(\"Failed Prediction for x_test element: \" + str(i))\n",
    "    print(\"\\nOverall Score : \"+ str(round(num_passed/num_to_test,1)*100)+\"%\")\n",
    "    return"
   ]
  },
  {
   "cell_type": "code",
   "execution_count": 113,
   "metadata": {},
   "outputs": [
    {
     "name": "stdout",
     "output_type": "stream",
     "text": [
      "Correct Prediction for x_test element: 419\n",
      "Correct Prediction for x_test element: 380\n",
      "Correct Prediction for x_test element: 809\n",
      "Correct Prediction for x_test element: 17\n",
      "Correct Prediction for x_test element: 878\n",
      "Correct Prediction for x_test element: 381\n",
      "Correct Prediction for x_test element: 960\n",
      "Correct Prediction for x_test element: 773\n",
      "Correct Prediction for x_test element: 125\n",
      "Correct Prediction for x_test element: 208\n",
      "\n",
      "Overall Score : 100.0%\n"
     ]
    }
   ],
   "source": [
    "test_model_prediction(x_test, y_test, 10)"
   ]
  },
  {
   "cell_type": "code",
   "execution_count": 93,
   "metadata": {},
   "outputs": [
    {
     "name": "stdout",
     "output_type": "stream",
     "text": [
      "loading [Apple Braeburn] one hot: [1.]\n",
      "Test Data\n",
      "....................................................................................................................................................................\n",
      "Training Data\n",
      "............................................................................................................................................................................................................................................................................................................................................................................................................................................................................................................\n"
     ]
    }
   ],
   "source": [
    "list_to_get = [\"Apple Braeburn\"]              \n",
    "x1_train, y1_train, x1_test, y1_test, _, item_dict = load_data(list_to_get, TEST_DATA, TRAIN_DATA)"
   ]
  },
  {
   "cell_type": "code",
   "execution_count": 114,
   "metadata": {},
   "outputs": [
    {
     "name": "stdout",
     "output_type": "stream",
     "text": [
      "Failed Prediction for x_test element: 112\n",
      "Failed Prediction for x_test element: 98\n",
      "Failed Prediction for x_test element: 62\n",
      "Failed Prediction for x_test element: 162\n",
      "Failed Prediction for x_test element: 71\n",
      "Failed Prediction for x_test element: 45\n",
      "Failed Prediction for x_test element: 71\n",
      "Failed Prediction for x_test element: 62\n",
      "Failed Prediction for x_test element: 86\n",
      "Failed Prediction for x_test element: 101\n",
      "\n",
      "Overall Score : 0.0%\n"
     ]
    }
   ],
   "source": [
    "test_model_prediction(x1_test, y1_test, 10)"
   ]
  },
  {
   "cell_type": "code",
   "execution_count": 100,
   "metadata": {},
   "outputs": [],
   "source": [
    "cnn_weights = model.get_weights()"
   ]
  },
  {
   "cell_type": "code",
   "execution_count": 101,
   "metadata": {},
   "outputs": [
    {
     "name": "stdout",
     "output_type": "stream",
     "text": [
      "0 : (5, 5, 3, 16)\n",
      "1 : (16,)\n",
      "2 : (16,)\n",
      "3 : (16,)\n",
      "4 : (3, 3, 16, 32)\n",
      "5 : (32,)\n",
      "6 : (32,)\n",
      "7 : (32,)\n",
      "8 : (3872, 500)\n",
      "9 : (500,)\n",
      "10 : (500, 6)\n",
      "11 : (6,)\n",
      "12 : (16,)\n",
      "13 : (16,)\n",
      "14 : (32,)\n",
      "15 : (32,)\n"
     ]
    }
   ],
   "source": [
    "for i, w in enumerate(cnn_weights):\n",
    "    print(str(i) + ' : ' + str(w.shape))"
   ]
  },
  {
   "cell_type": "code",
   "execution_count": 102,
   "metadata": {},
   "outputs": [],
   "source": [
    "# Model strcuture changes when complied for GPU, so we need to look in diffent places for the 'actual' layers\n",
    "def aij_model_summary(model):\n",
    "    try:\n",
    "        layers = model.get_layer(model_name).layers\n",
    "    except:\n",
    "        layers = model.layers\n",
    "    \n",
    "    for l in layers:\n",
    "        print(l.name+\":: params #\"+str(l.count_params()))\n",
    "    return"
   ]
  },
  {
   "cell_type": "code",
   "execution_count": 103,
   "metadata": {},
   "outputs": [
    {
     "name": "stdout",
     "output_type": "stream",
     "text": [
      "classifier_6_cnn0Input:: params #0\n",
      "classifier_6_cnn1_Conv2d:: params #1216\n",
      "classifier_6_cnn2_MaxPool2D:: params #0\n",
      "classifier_6_cnn3_BatchNorm:: params #64\n",
      "classifier_6_cnn3_conv2d:: params #4640\n",
      "classifier_6_cnn5_MaxPool2D:: params #0\n",
      "classifier_6_cnn6_BatchNorm:: params #128\n",
      "classifier_6_cnn7_Dropout:: params #0\n",
      "classifier_6_cnnOutput_Flatten:: params #0\n",
      "classifier_6_clInput_Dense:: params #1936500\n",
      "classifier_6_cl1_Dropout:: params #0\n",
      "classifier_6_clOutput:: params #3006\n"
     ]
    }
   ],
   "source": [
    "aij_model_summary(model)"
   ]
  },
  {
   "cell_type": "markdown",
   "metadata": {
    "collapsed": true
   },
   "source": [
    "## Articles of Interest\n",
    "\n",
    "[gpu article 1](https://datascience.stackexchange.com/questions/23895/multi-gpu-in-keras)\n",
    "[Keras Conv2D](https://www.pyimagesearch.com/2018/12/31/keras-conv2d-and-convolutional-layers/)"
   ]
  },
  {
   "cell_type": "code",
   "execution_count": 104,
   "metadata": {},
   "outputs": [],
   "source": [
    "# Model strcuture changes when complied for GPU, so we need to look in diffent places for the 'actual' layers\n",
    "cnn_only = \".*cnn.*\"\n",
    "def aij_save_cnn_layers(model,\n",
    "                        pattern=\".*\"):\n",
    "    try:\n",
    "        layers = model.get_layer(model_name).layers\n",
    "    except:\n",
    "        layers = model.layers\n",
    "    \n",
    "    for l in layers:\n",
    "        l_name = l.name\n",
    "        if re.search(pattern, l_name):\n",
    "            w = l.get_weights()\n",
    "            print('Saving Layer :'+ l.name + \":: params #\"+str(l.count_params()))\n",
    "            np.save(l_name + '.npy', w, allow_pickle=True)\n",
    "    return"
   ]
  },
  {
   "cell_type": "code",
   "execution_count": 105,
   "metadata": {},
   "outputs": [
    {
     "name": "stdout",
     "output_type": "stream",
     "text": [
      "Saving Layer :classifier_6_cnn0Input:: params #0\n",
      "Saving Layer :classifier_6_cnn1_Conv2d:: params #1216\n",
      "Saving Layer :classifier_6_cnn2_MaxPool2D:: params #0\n",
      "Saving Layer :classifier_6_cnn3_BatchNorm:: params #64\n",
      "Saving Layer :classifier_6_cnn3_conv2d:: params #4640\n",
      "Saving Layer :classifier_6_cnn5_MaxPool2D:: params #0\n",
      "Saving Layer :classifier_6_cnn6_BatchNorm:: params #128\n",
      "Saving Layer :classifier_6_cnn7_Dropout:: params #0\n",
      "Saving Layer :classifier_6_cnnOutput_Flatten:: params #0\n",
      "Saving Layer :classifier_6_clInput_Dense:: params #1936500\n",
      "Saving Layer :classifier_6_cl1_Dropout:: params #0\n",
      "Saving Layer :classifier_6_clOutput:: params #3006\n"
     ]
    }
   ],
   "source": [
    "aij_save_cnn_layers(model, pattern= \".*\")"
   ]
  },
  {
   "cell_type": "code",
   "execution_count": 111,
   "metadata": {},
   "outputs": [],
   "source": [
    "# Model strcuture changes when complied for GPU, so we need to look in diffent places for the 'actual' layers\n",
    "def aij_load_cnn_layers(model):\n",
    "    try:\n",
    "        layers = model.get_layer(model_name).layers\n",
    "    except:\n",
    "        layers = model.layers\n",
    "    \n",
    "    for l in layers:\n",
    "        try:\n",
    "            w = np.load(l.name+'.npy',allow_pickle=True)\n",
    "            l.set_weights(w)\n",
    "            print(\"Loaded weights for Layer: \"+l.name)\n",
    "        except:\n",
    "            print(\"No loadable weights for Layer: \"+l.name)    \n",
    "    return"
   ]
  },
  {
   "cell_type": "code",
   "execution_count": 112,
   "metadata": {},
   "outputs": [
    {
     "name": "stdout",
     "output_type": "stream",
     "text": [
      "classifier_6_cnn0Input:: params #0\n",
      "classifier_6_cnn1_Conv2d:: params #1216\n",
      "classifier_6_cnn2_MaxPool2D:: params #0\n",
      "classifier_6_cnn3_BatchNorm:: params #64\n",
      "classifier_6_cnn3_conv2d:: params #4640\n",
      "classifier_6_cnn5_MaxPool2D:: params #0\n",
      "classifier_6_cnn6_BatchNorm:: params #128\n",
      "classifier_6_cnn7_Dropout:: params #0\n",
      "classifier_6_cnnOutput_Flatten:: params #0\n",
      "classifier_6_clInput_Dense:: params #1936500\n",
      "classifier_6_cl1_Dropout:: params #0\n",
      "classifier_6_clOutput:: params #3006\n",
      "Loaded weights for Layer: classifier_6_cnn0Input\n",
      "Loaded weights for Layer: classifier_6_cnn1_Conv2d\n",
      "Loaded weights for Layer: classifier_6_cnn2_MaxPool2D\n",
      "Loaded weights for Layer: classifier_6_cnn3_BatchNorm\n",
      "Loaded weights for Layer: classifier_6_cnn3_conv2d\n",
      "Loaded weights for Layer: classifier_6_cnn5_MaxPool2D\n",
      "Loaded weights for Layer: classifier_6_cnn6_BatchNorm\n",
      "Loaded weights for Layer: classifier_6_cnn7_Dropout\n",
      "Loaded weights for Layer: classifier_6_cnnOutput_Flatten\n",
      "Loaded weights for Layer: classifier_6_clInput_Dense\n",
      "Loaded weights for Layer: classifier_6_cl1_Dropout\n",
      "Loaded weights for Layer: classifier_6_clOutput\n",
      "classifier_6_cnn0Input:: params #0\n",
      "classifier_6_cnn1_Conv2d:: params #1216\n",
      "classifier_6_cnn2_MaxPool2D:: params #0\n",
      "classifier_6_cnn3_BatchNorm:: params #64\n",
      "classifier_6_cnn3_conv2d:: params #4640\n",
      "classifier_6_cnn5_MaxPool2D:: params #0\n",
      "classifier_6_cnn6_BatchNorm:: params #128\n",
      "classifier_6_cnn7_Dropout:: params #0\n",
      "classifier_6_cnnOutput_Flatten:: params #0\n",
      "classifier_6_clInput_Dense:: params #1936500\n",
      "classifier_6_cl1_Dropout:: params #0\n",
      "classifier_6_clOutput:: params #3006\n"
     ]
    }
   ],
   "source": [
    "aij_model_summary(model)\n",
    "aij_load_cnn_layers(model)\n",
    "aij_model_summary(model)"
   ]
  },
  {
   "cell_type": "code",
   "execution_count": 3,
   "metadata": {},
   "outputs": [
    {
     "name": "stdout",
     "output_type": "stream",
     "text": [
      "[array([[[[ 1.00328632e-01,  7.19788224e-02, -7.45130628e-02, ...,\n",
      "          -4.68715243e-02,  1.08416520e-01, -5.91210388e-02],\n",
      "         [-4.61038522e-04, -1.13817841e-01, -6.99405149e-02, ...,\n",
      "           4.26709577e-02,  2.91193631e-02,  4.78617061e-04],\n",
      "         [ 2.79302951e-02,  7.86245465e-02,  4.15703394e-02, ...,\n",
      "           6.58095032e-02, -2.46534450e-03,  8.34710337e-03]],\n",
      "\n",
      "        [[ 8.70507434e-02,  8.52786601e-02,  8.91039446e-02, ...,\n",
      "          -4.03976925e-02,  1.03903234e-01,  2.52601504e-02],\n",
      "         [ 5.81045114e-02, -8.04158673e-02, -3.50334123e-02, ...,\n",
      "          -5.30138388e-02, -2.97803655e-02, -6.13923743e-02],\n",
      "         [-9.58332047e-02, -1.77703798e-02,  3.10953986e-02, ...,\n",
      "           6.59948736e-02, -1.66889708e-02,  6.42052442e-02]],\n",
      "\n",
      "        [[ 6.30962625e-02, -7.94316828e-03, -1.84313916e-02, ...,\n",
      "          -9.00084078e-02,  6.29052818e-02, -5.01374155e-02],\n",
      "         [ 3.86751108e-02,  5.22720814e-03,  1.05903842e-01, ...,\n",
      "           9.69939679e-03, -9.54930484e-03, -1.59089789e-02],\n",
      "         [ 2.07255371e-02, -7.56057650e-02, -3.10647916e-02, ...,\n",
      "           5.06624579e-02, -3.68265877e-03, -9.73903835e-02]],\n",
      "\n",
      "        [[ 4.77218069e-02,  4.80523668e-02,  4.29915451e-02, ...,\n",
      "           1.13719307e-01,  2.73129307e-02, -1.43391741e-02],\n",
      "         [ 1.09571010e-01,  1.82903409e-02, -2.39265952e-02, ...,\n",
      "          -1.00262873e-01, -1.81126483e-02,  5.07971318e-03],\n",
      "         [-9.71568599e-02,  1.59079935e-02,  9.33992565e-02, ...,\n",
      "           1.08702071e-01, -8.18377212e-02, -6.43830523e-02]],\n",
      "\n",
      "        [[ 1.02361381e-01,  5.82008064e-02, -1.00451887e-01, ...,\n",
      "          -3.08063328e-02,  4.16789874e-02, -8.71454328e-02],\n",
      "         [-5.26242293e-02, -3.12386844e-02, -9.33620781e-02, ...,\n",
      "          -1.00533053e-01,  9.13528278e-02, -2.41535008e-02],\n",
      "         [-2.87481491e-02, -1.09790131e-01, -5.88700511e-02, ...,\n",
      "          -8.17638338e-02, -1.07983813e-01,  6.70702383e-02]]],\n",
      "\n",
      "\n",
      "       [[[ 1.23745995e-03,  6.55227900e-02, -8.86828080e-02, ...,\n",
      "           5.98812327e-02,  4.65764590e-02, -7.18347207e-02],\n",
      "         [ 9.26505178e-02,  2.44523026e-02,  6.79936484e-02, ...,\n",
      "          -2.53205653e-02, -7.39330128e-02, -9.23523083e-02],\n",
      "         [ 6.95621073e-02, -8.29106271e-02,  1.41319158e-02, ...,\n",
      "          -3.64117138e-02, -4.84629869e-02, -1.00300260e-01]],\n",
      "\n",
      "        [[-7.94607624e-02,  6.94224611e-02,  1.59770455e-02, ...,\n",
      "           8.09659585e-02, -7.78199360e-02, -9.64975543e-03],\n",
      "         [-7.49526173e-02, -3.10521349e-02, -1.93714947e-02, ...,\n",
      "           3.22144218e-02,  2.82769371e-02,  1.10973440e-01],\n",
      "         [-1.02750726e-01,  5.37619293e-02, -9.31020752e-02, ...,\n",
      "           1.99365038e-02, -3.97019610e-02, -1.76697522e-02]],\n",
      "\n",
      "        [[ 1.11280672e-01, -2.50566043e-02, -8.49009678e-02, ...,\n",
      "          -4.25017141e-02, -2.85653546e-02, -8.36115852e-02],\n",
      "         [ 5.97205460e-02,  5.52197220e-03, -9.00294855e-02, ...,\n",
      "           1.17182471e-01, -1.01891212e-01, -1.69666093e-02],\n",
      "         [-4.19585183e-02,  3.61482091e-02, -6.55460283e-02, ...,\n",
      "          -9.78947729e-02, -5.50679676e-02,  9.02732238e-02]],\n",
      "\n",
      "        [[-8.99827946e-03,  6.13057427e-02,  1.09921061e-01, ...,\n",
      "          -7.74792349e-03,  2.41334625e-02, -4.35705893e-02],\n",
      "         [ 6.43040687e-02, -1.23343691e-01,  1.08084135e-01, ...,\n",
      "           2.56104842e-02,  9.77574885e-02, -4.84083444e-02],\n",
      "         [ 3.84325236e-02, -5.27083352e-02,  3.90334204e-02, ...,\n",
      "          -4.99228202e-02,  1.26445433e-02, -2.25793179e-02]],\n",
      "\n",
      "        [[-4.95385341e-02,  8.24074894e-02, -7.93423206e-02, ...,\n",
      "          -3.61432582e-02,  1.20039463e-01, -9.78319719e-03],\n",
      "         [ 6.18664287e-02,  5.12231775e-02, -7.23965243e-02, ...,\n",
      "           9.40730050e-02,  4.87259813e-02, -1.71815865e-02],\n",
      "         [-1.01984059e-03,  3.27698812e-02,  6.45372421e-02, ...,\n",
      "          -6.59750402e-03,  7.49995783e-02, -3.45144980e-02]]],\n",
      "\n",
      "\n",
      "       [[[-3.03275697e-02,  9.81200114e-02, -8.05247501e-02, ...,\n",
      "          -6.63594576e-03,  8.06128085e-02,  6.49074391e-02],\n",
      "         [-9.04127881e-02, -8.32704902e-02,  4.59696651e-02, ...,\n",
      "          -8.10772032e-02,  1.12552911e-01,  7.01423958e-02],\n",
      "         [-2.75007524e-02,  6.80338740e-02, -8.87061507e-02, ...,\n",
      "          -9.11282226e-02,  4.69713286e-03,  1.11603536e-01]],\n",
      "\n",
      "        [[ 6.54230863e-02,  9.29426402e-03,  8.87676626e-02, ...,\n",
      "          -1.02204151e-01,  8.38164091e-02,  5.28550968e-02],\n",
      "         [-7.90339708e-02, -8.57079925e-04, -6.41995072e-02, ...,\n",
      "           1.00878596e-01,  1.48456059e-02,  8.41120034e-02],\n",
      "         [-1.59436166e-02,  8.03190023e-02, -6.79670125e-02, ...,\n",
      "          -1.05060220e-01,  7.22163031e-03,  1.15863055e-01]],\n",
      "\n",
      "        [[ 3.32035273e-02, -9.55962241e-02,  6.05604015e-02, ...,\n",
      "           1.00212835e-01,  4.07541753e-04,  3.87738571e-02],\n",
      "         [-7.10596442e-02,  1.22491969e-02,  6.37215674e-02, ...,\n",
      "           7.15601593e-02, -8.67835134e-02, -7.67381862e-02],\n",
      "         [-5.38869761e-02,  1.06144026e-02,  1.49646699e-02, ...,\n",
      "          -4.75416938e-03, -4.77263564e-03, -5.97819686e-02]],\n",
      "\n",
      "        [[ 8.97876024e-02, -6.59895688e-02, -2.94591580e-02, ...,\n",
      "           4.04837281e-02,  8.74492452e-02, -1.07241403e-02],\n",
      "         [-6.88946694e-02, -5.26860915e-02,  1.10669389e-01, ...,\n",
      "           4.84214909e-02, -8.45576674e-02,  4.89196964e-02],\n",
      "         [-6.35309890e-02, -1.18546225e-01, -8.03782046e-02, ...,\n",
      "           1.80232804e-03, -9.83236060e-02, -9.19242799e-02]],\n",
      "\n",
      "        [[-9.59336311e-02, -3.49360220e-02,  4.33328636e-02, ...,\n",
      "          -9.89771560e-02,  1.80637203e-02, -6.70645908e-02],\n",
      "         [-1.30744965e-03, -3.59792672e-02,  4.49588411e-02, ...,\n",
      "           5.25743105e-02,  3.19767483e-02,  2.05826275e-02],\n",
      "         [ 9.45209265e-02, -1.01700976e-01,  3.78756225e-02, ...,\n",
      "           9.17873979e-02, -9.09109339e-02, -9.06026512e-02]]],\n",
      "\n",
      "\n",
      "       [[[ 3.33911553e-02, -7.99865499e-02,  1.09904660e-02, ...,\n",
      "          -6.45017773e-02, -3.78336129e-03, -8.19146633e-02],\n",
      "         [-6.04213215e-02, -2.40706690e-02,  4.13646623e-02, ...,\n",
      "          -1.02503560e-01,  8.01418051e-02, -3.15994560e-03],\n",
      "         [-2.90641394e-02,  3.63222882e-02,  5.84733151e-02, ...,\n",
      "           8.56572017e-03, -7.66735896e-02, -3.87670845e-03]],\n",
      "\n",
      "        [[-9.26739052e-02, -3.91558260e-02, -1.06589019e-01, ...,\n",
      "          -2.90258583e-02, -4.74105813e-02, -5.83937503e-02],\n",
      "         [-4.84951697e-02, -7.54629821e-02,  2.70815138e-02, ...,\n",
      "           7.92614892e-02, -5.87483495e-02,  6.67355629e-03],\n",
      "         [-3.11602298e-02,  1.29566109e-03,  6.52530119e-02, ...,\n",
      "          -5.76812141e-02, -1.10271081e-01,  9.32094269e-03]],\n",
      "\n",
      "        [[ 1.18200727e-01,  2.67823841e-02,  4.35217693e-02, ...,\n",
      "           1.78935416e-02, -7.83594102e-02,  8.39569196e-02],\n",
      "         [-1.19107731e-01, -8.18398893e-02, -1.50276786e-02, ...,\n",
      "          -9.84878186e-03, -8.15239847e-02, -5.05336896e-02],\n",
      "         [ 5.41983806e-02,  2.40272153e-02, -2.74865329e-02, ...,\n",
      "           6.81839585e-02, -2.75168400e-02,  9.16346237e-02]],\n",
      "\n",
      "        [[ 4.98709604e-02,  2.64850296e-02,  3.28862965e-02, ...,\n",
      "           6.62591755e-02,  2.15832447e-03,  1.06252141e-01],\n",
      "         [-6.00750931e-02,  7.37618804e-02,  8.59589204e-02, ...,\n",
      "           1.07217707e-01,  8.50032941e-02,  5.94334938e-02],\n",
      "         [-3.42568681e-02, -7.60066733e-02,  9.74009335e-02, ...,\n",
      "          -1.71095971e-03, -3.91758643e-02,  5.17651998e-02]],\n",
      "\n",
      "        [[ 6.68418184e-02, -6.88753575e-02, -1.42406262e-02, ...,\n",
      "           7.90862888e-02, -7.66227543e-02,  1.13767907e-01],\n",
      "         [ 4.84231114e-02,  7.32154697e-02, -1.08298741e-01, ...,\n",
      "           9.14340764e-02, -1.54272718e-02,  4.08110209e-02],\n",
      "         [ 6.63772523e-02,  6.15996756e-02,  4.39486951e-02, ...,\n",
      "           7.38843679e-02,  7.01796785e-02,  9.51704532e-02]]],\n",
      "\n",
      "\n",
      "       [[[-7.78467357e-02, -3.79790924e-02,  9.47469100e-02, ...,\n",
      "          -2.56503690e-02, -1.55604910e-02,  1.01500042e-01],\n",
      "         [-1.28128856e-01, -1.12175003e-01, -2.86595728e-02, ...,\n",
      "           5.08451238e-02,  8.29238445e-02, -1.18511375e-02],\n",
      "         [ 5.01618581e-03, -6.21139929e-02, -1.15223691e-01, ...,\n",
      "           8.55375081e-02,  6.94285184e-02,  5.39145172e-02]],\n",
      "\n",
      "        [[-6.36915537e-03,  9.59888753e-03,  8.64625573e-02, ...,\n",
      "           8.99200812e-02,  3.01318131e-02, -7.34250322e-02],\n",
      "         [-3.79515477e-02, -1.20639719e-01,  9.83183552e-03, ...,\n",
      "           5.63336676e-03,  7.71235526e-02,  1.23461209e-01],\n",
      "         [-4.12545949e-02, -2.28751302e-02,  1.33590671e-04, ...,\n",
      "          -1.13340616e-01, -2.96362638e-02,  8.23330507e-02]],\n",
      "\n",
      "        [[ 1.17188066e-01,  4.17049602e-02,  9.62621421e-02, ...,\n",
      "           1.50480112e-02,  1.02785915e-01,  7.09721893e-02],\n",
      "         [-7.36768693e-02, -3.20977867e-02,  6.61340505e-02, ...,\n",
      "           8.43673572e-02, -6.13006987e-02,  9.10667181e-02],\n",
      "         [-1.05123572e-01, -1.14883400e-01, -9.97397602e-02, ...,\n",
      "          -1.28142713e-02,  8.26120898e-02, -4.72016521e-02]],\n",
      "\n",
      "        [[-5.90905435e-02, -8.03106800e-02,  9.29871053e-02, ...,\n",
      "           6.89884350e-02, -5.75655028e-02,  3.25579904e-02],\n",
      "         [-1.02292947e-01,  1.41730718e-02,  3.79717909e-02, ...,\n",
      "          -8.90727341e-02,  9.29999575e-02, -5.37833460e-02],\n",
      "         [-9.75259114e-03,  5.00261188e-02,  8.78770575e-02, ...,\n",
      "          -6.82276338e-02, -3.28485034e-02,  5.61209545e-02]],\n",
      "\n",
      "        [[ 7.59956613e-02,  4.32970598e-02,  9.57542881e-02, ...,\n",
      "          -1.23800687e-03,  1.35926813e-01,  4.25606500e-03],\n",
      "         [-7.23353252e-02,  8.47395360e-02,  1.09099135e-01, ...,\n",
      "          -3.45843583e-02, -7.77711049e-02,  1.25743255e-01],\n",
      "         [ 9.80597222e-04,  8.25947151e-02, -1.45743899e-02, ...,\n",
      "          -6.52294606e-02,  1.03006840e-01, -2.66291313e-02]]]],\n",
      "      dtype=float32)\n",
      " array([ 3.8015626e-02,  4.3406714e-02, -2.1786022e-04,  2.0595111e-02,\n",
      "        1.9105602e-02,  4.6383478e-03,  1.0878362e-05,  2.0389769e-02,\n",
      "        9.9083604e-03, -2.6688054e-02,  2.8215420e-02,  4.9477080e-03,\n",
      "        3.0017812e-03,  4.4911304e-03,  2.1295691e-02,  2.2165547e-03],\n",
      "      dtype=float32)]\n"
     ]
    }
   ],
   "source": [
    "import numpy as np\n",
    "f = \"classifier_6_cnn1_Conv2d.npy\"\n",
    "w = np.load(f,allow_pickle=True)\n",
    "print(w)"
   ]
  },
  {
   "cell_type": "code",
   "execution_count": null,
   "metadata": {},
   "outputs": [],
   "source": []
  }
 ],
 "metadata": {
  "kernelspec": {
   "display_name": "Python 3",
   "language": "python",
   "name": "python3"
  },
  "language_info": {
   "codemirror_mode": {
    "name": "ipython",
    "version": 3
   },
   "file_extension": ".py",
   "mimetype": "text/x-python",
   "name": "python",
   "nbconvert_exporter": "python",
   "pygments_lexer": "ipython3",
   "version": "3.7.1"
  }
 },
 "nbformat": 4,
 "nbformat_minor": 2
}
